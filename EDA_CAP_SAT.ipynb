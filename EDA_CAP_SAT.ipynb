{
 "cells": [
  {
   "cell_type": "markdown",
   "id": "a8888ab5-cb5c-41ba-a816-61fa89e612f8",
   "metadata": {},
   "source": [
    "# EDA"
   ]
  },
  {
   "cell_type": "markdown",
   "id": "1dd1e740-d4cd-40d5-8d3d-a1d460b8dd58",
   "metadata": {},
   "source": [
    "## Import and Initial Data Review"
   ]
  },
  {
   "cell_type": "code",
   "execution_count": 1,
   "id": "56a42876-8554-4ae9-a7cb-b8f8228cac43",
   "metadata": {},
   "outputs": [],
   "source": [
    "import numpy as np\n",
    "import pandas as pd\n",
    "import seaborn as sns\n",
    "import matplotlib.pyplot as plt\n",
    "from mpl_toolkits import mplot3d\n",
    "from datetime import datetime, timezone"
   ]
  },
  {
   "cell_type": "code",
   "execution_count": 2,
   "id": "0fa7c7ff-320c-499e-a3e3-ab366995d82c",
   "metadata": {},
   "outputs": [],
   "source": [
    "df=pd.read_json('./data/gp_space_track_03MAR2022.json',orient='records')"
   ]
  },
  {
   "cell_type": "markdown",
   "id": "4053c669-d283-4388-82ee-0907737d9d51",
   "metadata": {},
   "source": [
    "Library and data input"
   ]
  },
  {
   "cell_type": "code",
   "execution_count": 3,
   "id": "458d1360-4726-4535-a4a9-295983f84450",
   "metadata": {},
   "outputs": [
    {
     "data": {
      "text/html": [
       "<div>\n",
       "<style scoped>\n",
       "    .dataframe tbody tr th:only-of-type {\n",
       "        vertical-align: middle;\n",
       "    }\n",
       "\n",
       "    .dataframe tbody tr th {\n",
       "        vertical-align: top;\n",
       "    }\n",
       "\n",
       "    .dataframe thead th {\n",
       "        text-align: right;\n",
       "    }\n",
       "</style>\n",
       "<table border=\"1\" class=\"dataframe\">\n",
       "  <thead>\n",
       "    <tr style=\"text-align: right;\">\n",
       "      <th></th>\n",
       "      <th>CCSDS_OMM_VERS</th>\n",
       "      <th>COMMENT</th>\n",
       "      <th>CREATION_DATE</th>\n",
       "      <th>ORIGINATOR</th>\n",
       "      <th>OBJECT_NAME</th>\n",
       "      <th>OBJECT_ID</th>\n",
       "      <th>CENTER_NAME</th>\n",
       "      <th>REF_FRAME</th>\n",
       "      <th>TIME_SYSTEM</th>\n",
       "      <th>MEAN_ELEMENT_THEORY</th>\n",
       "      <th>...</th>\n",
       "      <th>RCS_SIZE</th>\n",
       "      <th>COUNTRY_CODE</th>\n",
       "      <th>LAUNCH_DATE</th>\n",
       "      <th>SITE</th>\n",
       "      <th>DECAY_DATE</th>\n",
       "      <th>FILE</th>\n",
       "      <th>GP_ID</th>\n",
       "      <th>TLE_LINE0</th>\n",
       "      <th>TLE_LINE1</th>\n",
       "      <th>TLE_LINE2</th>\n",
       "    </tr>\n",
       "  </thead>\n",
       "  <tbody>\n",
       "    <tr>\n",
       "      <th>0</th>\n",
       "      <td>2</td>\n",
       "      <td>GENERATED VIA SPACE-TRACK.ORG API</td>\n",
       "      <td>2004-08-15T23:37:47</td>\n",
       "      <td>18 SPCS</td>\n",
       "      <td>EXPLORER 1</td>\n",
       "      <td>1958-001A</td>\n",
       "      <td>EARTH</td>\n",
       "      <td>TEME</td>\n",
       "      <td>UTC</td>\n",
       "      <td>SGP4</td>\n",
       "      <td>...</td>\n",
       "      <td>None</td>\n",
       "      <td>None</td>\n",
       "      <td>None</td>\n",
       "      <td>None</td>\n",
       "      <td>1970-03-31</td>\n",
       "      <td>33954</td>\n",
       "      <td>8837957</td>\n",
       "      <td>0 EXPLORER 1</td>\n",
       "      <td>1 00004U 58001  A 70090.03500497  .07718844 +0...</td>\n",
       "      <td>2 00004 033.1468 334.6171 0024739 311.5310 048...</td>\n",
       "    </tr>\n",
       "    <tr>\n",
       "      <th>1</th>\n",
       "      <td>2</td>\n",
       "      <td>GENERATED VIA SPACE-TRACK.ORG API</td>\n",
       "      <td>2022-03-03T03:48:30</td>\n",
       "      <td>18 SPCS</td>\n",
       "      <td>VANGUARD 1</td>\n",
       "      <td>1958-002B</td>\n",
       "      <td>EARTH</td>\n",
       "      <td>TEME</td>\n",
       "      <td>UTC</td>\n",
       "      <td>SGP4</td>\n",
       "      <td>...</td>\n",
       "      <td>SMALL</td>\n",
       "      <td>US</td>\n",
       "      <td>1958-03-17</td>\n",
       "      <td>AFETR</td>\n",
       "      <td>None</td>\n",
       "      <td>3341695</td>\n",
       "      <td>197637637</td>\n",
       "      <td>0 VANGUARD 1</td>\n",
       "      <td>1 00005U 58002B   22061.76964442  .00000283  0...</td>\n",
       "      <td>2 00005  34.2577 108.1274 1845170 277.3809  62...</td>\n",
       "    </tr>\n",
       "    <tr>\n",
       "      <th>2</th>\n",
       "      <td>2</td>\n",
       "      <td>GENERATED VIA SPACE-TRACK.ORG API</td>\n",
       "      <td>2004-08-15T23:35:23</td>\n",
       "      <td>18 SPCS</td>\n",
       "      <td>SPUTNIK 3</td>\n",
       "      <td>1958-004B</td>\n",
       "      <td>EARTH</td>\n",
       "      <td>TEME</td>\n",
       "      <td>UTC</td>\n",
       "      <td>SGP4</td>\n",
       "      <td>...</td>\n",
       "      <td>None</td>\n",
       "      <td>None</td>\n",
       "      <td>None</td>\n",
       "      <td>None</td>\n",
       "      <td>1960-04-06</td>\n",
       "      <td>33906</td>\n",
       "      <td>8671641</td>\n",
       "      <td>0 SPUTNIK 3</td>\n",
       "      <td>1 00008U 58004  B 60095.16166626  .02607090 +0...</td>\n",
       "      <td>2 00008 065.0599 163.5585 0088318 135.6760 224...</td>\n",
       "    </tr>\n",
       "    <tr>\n",
       "      <th>3</th>\n",
       "      <td>2</td>\n",
       "      <td>GENERATED VIA SPACE-TRACK.ORG API</td>\n",
       "      <td>2004-08-15T23:35:20</td>\n",
       "      <td>18 SPCS</td>\n",
       "      <td>EXPLORER 4</td>\n",
       "      <td>1958-005A</td>\n",
       "      <td>EARTH</td>\n",
       "      <td>TEME</td>\n",
       "      <td>UTC</td>\n",
       "      <td>SGP4</td>\n",
       "      <td>...</td>\n",
       "      <td>None</td>\n",
       "      <td>None</td>\n",
       "      <td>None</td>\n",
       "      <td>None</td>\n",
       "      <td>1959-10-23</td>\n",
       "      <td>33905</td>\n",
       "      <td>8671482</td>\n",
       "      <td>0 EXPLORER 4</td>\n",
       "      <td>1 00009U 58005  A 59275.28696823  .00892850 +0...</td>\n",
       "      <td>2 00009 050.2549 082.4216 0254534 057.7226 303...</td>\n",
       "    </tr>\n",
       "    <tr>\n",
       "      <th>4</th>\n",
       "      <td>2</td>\n",
       "      <td>GENERATED VIA SPACE-TRACK.ORG API</td>\n",
       "      <td>2022-03-03T03:48:30</td>\n",
       "      <td>18 SPCS</td>\n",
       "      <td>VANGUARD 2</td>\n",
       "      <td>1959-001A</td>\n",
       "      <td>EARTH</td>\n",
       "      <td>TEME</td>\n",
       "      <td>UTC</td>\n",
       "      <td>SGP4</td>\n",
       "      <td>...</td>\n",
       "      <td>MEDIUM</td>\n",
       "      <td>US</td>\n",
       "      <td>1959-02-17</td>\n",
       "      <td>AFETR</td>\n",
       "      <td>None</td>\n",
       "      <td>3341695</td>\n",
       "      <td>197637638</td>\n",
       "      <td>0 VANGUARD 2</td>\n",
       "      <td>1 00011U 59001A   22061.82920175  .00000931  0...</td>\n",
       "      <td>2 00011  32.8660 234.6058 1466560 171.2210 191...</td>\n",
       "    </tr>\n",
       "  </tbody>\n",
       "</table>\n",
       "<p>5 rows × 40 columns</p>\n",
       "</div>"
      ],
      "text/plain": [
       "   CCSDS_OMM_VERS                            COMMENT        CREATION_DATE  \\\n",
       "0               2  GENERATED VIA SPACE-TRACK.ORG API  2004-08-15T23:37:47   \n",
       "1               2  GENERATED VIA SPACE-TRACK.ORG API  2022-03-03T03:48:30   \n",
       "2               2  GENERATED VIA SPACE-TRACK.ORG API  2004-08-15T23:35:23   \n",
       "3               2  GENERATED VIA SPACE-TRACK.ORG API  2004-08-15T23:35:20   \n",
       "4               2  GENERATED VIA SPACE-TRACK.ORG API  2022-03-03T03:48:30   \n",
       "\n",
       "  ORIGINATOR OBJECT_NAME  OBJECT_ID CENTER_NAME REF_FRAME TIME_SYSTEM  \\\n",
       "0    18 SPCS  EXPLORER 1  1958-001A       EARTH      TEME         UTC   \n",
       "1    18 SPCS  VANGUARD 1  1958-002B       EARTH      TEME         UTC   \n",
       "2    18 SPCS   SPUTNIK 3  1958-004B       EARTH      TEME         UTC   \n",
       "3    18 SPCS  EXPLORER 4  1958-005A       EARTH      TEME         UTC   \n",
       "4    18 SPCS  VANGUARD 2  1959-001A       EARTH      TEME         UTC   \n",
       "\n",
       "  MEAN_ELEMENT_THEORY  ... RCS_SIZE  COUNTRY_CODE  LAUNCH_DATE   SITE  \\\n",
       "0                SGP4  ...     None          None         None   None   \n",
       "1                SGP4  ...    SMALL            US   1958-03-17  AFETR   \n",
       "2                SGP4  ...     None          None         None   None   \n",
       "3                SGP4  ...     None          None         None   None   \n",
       "4                SGP4  ...   MEDIUM            US   1959-02-17  AFETR   \n",
       "\n",
       "   DECAY_DATE     FILE      GP_ID     TLE_LINE0  \\\n",
       "0  1970-03-31    33954    8837957  0 EXPLORER 1   \n",
       "1        None  3341695  197637637  0 VANGUARD 1   \n",
       "2  1960-04-06    33906    8671641   0 SPUTNIK 3   \n",
       "3  1959-10-23    33905    8671482  0 EXPLORER 4   \n",
       "4        None  3341695  197637638  0 VANGUARD 2   \n",
       "\n",
       "                                           TLE_LINE1  \\\n",
       "0  1 00004U 58001  A 70090.03500497  .07718844 +0...   \n",
       "1  1 00005U 58002B   22061.76964442  .00000283  0...   \n",
       "2  1 00008U 58004  B 60095.16166626  .02607090 +0...   \n",
       "3  1 00009U 58005  A 59275.28696823  .00892850 +0...   \n",
       "4  1 00011U 59001A   22061.82920175  .00000931  0...   \n",
       "\n",
       "                                           TLE_LINE2  \n",
       "0  2 00004 033.1468 334.6171 0024739 311.5310 048...  \n",
       "1  2 00005  34.2577 108.1274 1845170 277.3809  62...  \n",
       "2  2 00008 065.0599 163.5585 0088318 135.6760 224...  \n",
       "3  2 00009 050.2549 082.4216 0254534 057.7226 303...  \n",
       "4  2 00011  32.8660 234.6058 1466560 171.2210 191...  \n",
       "\n",
       "[5 rows x 40 columns]"
      ]
     },
     "execution_count": 3,
     "metadata": {},
     "output_type": "execute_result"
    }
   ],
   "source": [
    "df.head(5)"
   ]
  },
  {
   "cell_type": "code",
   "execution_count": 4,
   "id": "803e1c40-dc35-4388-ad57-665e197a57f6",
   "metadata": {},
   "outputs": [
    {
     "data": {
      "text/plain": [
       "(50468, 40)"
      ]
     },
     "execution_count": 4,
     "metadata": {},
     "output_type": "execute_result"
    }
   ],
   "source": [
    "df.shape"
   ]
  },
  {
   "cell_type": "code",
   "execution_count": 5,
   "id": "9efe8a0b-6437-4ee4-b12e-f615d74202df",
   "metadata": {},
   "outputs": [
    {
     "data": {
      "text/plain": [
       "Index(['CCSDS_OMM_VERS', 'COMMENT', 'CREATION_DATE', 'ORIGINATOR',\n",
       "       'OBJECT_NAME', 'OBJECT_ID', 'CENTER_NAME', 'REF_FRAME', 'TIME_SYSTEM',\n",
       "       'MEAN_ELEMENT_THEORY', 'EPOCH', 'MEAN_MOTION', 'ECCENTRICITY',\n",
       "       'INCLINATION', 'RA_OF_ASC_NODE', 'ARG_OF_PERICENTER', 'MEAN_ANOMALY',\n",
       "       'EPHEMERIS_TYPE', 'CLASSIFICATION_TYPE', 'NORAD_CAT_ID',\n",
       "       'ELEMENT_SET_NO', 'REV_AT_EPOCH', 'BSTAR', 'MEAN_MOTION_DOT',\n",
       "       'MEAN_MOTION_DDOT', 'SEMIMAJOR_AXIS', 'PERIOD', 'APOAPSIS', 'PERIAPSIS',\n",
       "       'OBJECT_TYPE', 'RCS_SIZE', 'COUNTRY_CODE', 'LAUNCH_DATE', 'SITE',\n",
       "       'DECAY_DATE', 'FILE', 'GP_ID', 'TLE_LINE0', 'TLE_LINE1', 'TLE_LINE2'],\n",
       "      dtype='object')"
      ]
     },
     "execution_count": 5,
     "metadata": {},
     "output_type": "execute_result"
    }
   ],
   "source": [
    "df.columns"
   ]
  },
  {
   "cell_type": "code",
   "execution_count": 6,
   "id": "c7b2b907-a267-4992-9135-cd433d58e14c",
   "metadata": {},
   "outputs": [
    {
     "data": {
      "text/plain": [
       "CCSDS_OMM_VERS           int64\n",
       "COMMENT                 object\n",
       "CREATION_DATE           object\n",
       "ORIGINATOR              object\n",
       "OBJECT_NAME             object\n",
       "OBJECT_ID               object\n",
       "CENTER_NAME             object\n",
       "REF_FRAME               object\n",
       "TIME_SYSTEM             object\n",
       "MEAN_ELEMENT_THEORY     object\n",
       "EPOCH                   object\n",
       "MEAN_MOTION            float64\n",
       "ECCENTRICITY           float64\n",
       "INCLINATION            float64\n",
       "RA_OF_ASC_NODE         float64\n",
       "ARG_OF_PERICENTER      float64\n",
       "MEAN_ANOMALY           float64\n",
       "EPHEMERIS_TYPE           int64\n",
       "CLASSIFICATION_TYPE     object\n",
       "NORAD_CAT_ID             int64\n",
       "ELEMENT_SET_NO           int64\n",
       "REV_AT_EPOCH             int64\n",
       "BSTAR                  float64\n",
       "MEAN_MOTION_DOT        float64\n",
       "MEAN_MOTION_DDOT       float64\n",
       "SEMIMAJOR_AXIS         float64\n",
       "PERIOD                 float64\n",
       "APOAPSIS               float64\n",
       "PERIAPSIS              float64\n",
       "OBJECT_TYPE             object\n",
       "RCS_SIZE                object\n",
       "COUNTRY_CODE            object\n",
       "LAUNCH_DATE             object\n",
       "SITE                    object\n",
       "DECAY_DATE              object\n",
       "FILE                     int64\n",
       "GP_ID                    int64\n",
       "TLE_LINE0               object\n",
       "TLE_LINE1               object\n",
       "TLE_LINE2               object\n",
       "dtype: object"
      ]
     },
     "execution_count": 6,
     "metadata": {},
     "output_type": "execute_result"
    }
   ],
   "source": [
    "df.dtypes"
   ]
  },
  {
   "cell_type": "markdown",
   "id": "3a7770ba-38dd-4369-8181-e4bb58a30eef",
   "metadata": {},
   "source": [
    "Review of overall dataset above, and below the general output found for each entry."
   ]
  },
  {
   "cell_type": "code",
   "execution_count": 7,
   "id": "25680396-d880-4b7e-8990-2274f54a5dc6",
   "metadata": {},
   "outputs": [
    {
     "data": {
      "text/plain": [
       "CCSDS_OMM_VERS                                                         2\n",
       "COMMENT                                GENERATED VIA SPACE-TRACK.ORG API\n",
       "CREATION_DATE                                        2022-03-03T03:48:30\n",
       "ORIGINATOR                                                       18 SPCS\n",
       "OBJECT_NAME                                                   VANGUARD 1\n",
       "OBJECT_ID                                                      1958-002B\n",
       "CENTER_NAME                                                        EARTH\n",
       "REF_FRAME                                                           TEME\n",
       "TIME_SYSTEM                                                          UTC\n",
       "MEAN_ELEMENT_THEORY                                                 SGP4\n",
       "EPOCH                                         2022-03-02T18:28:17.277888\n",
       "MEAN_MOTION                                                    10.848696\n",
       "ECCENTRICITY                                                    0.184517\n",
       "INCLINATION                                                      34.2577\n",
       "RA_OF_ASC_NODE                                                  108.1274\n",
       "ARG_OF_PERICENTER                                               277.3809\n",
       "MEAN_ANOMALY                                                     62.1864\n",
       "EPHEMERIS_TYPE                                                         0\n",
       "CLASSIFICATION_TYPE                                                    U\n",
       "NORAD_CAT_ID                                                           5\n",
       "ELEMENT_SET_NO                                                       999\n",
       "REV_AT_EPOCH                                                       27295\n",
       "BSTAR                                                           0.000338\n",
       "MEAN_MOTION_DOT                                                 0.000003\n",
       "MEAN_MOTION_DDOT                                                     0.0\n",
       "SEMIMAJOR_AXIS                                                  8619.528\n",
       "PERIOD                                                           132.735\n",
       "APOAPSIS                                                        3831.843\n",
       "PERIAPSIS                                                        650.944\n",
       "OBJECT_TYPE                                                      PAYLOAD\n",
       "RCS_SIZE                                                           SMALL\n",
       "COUNTRY_CODE                                                          US\n",
       "LAUNCH_DATE                                                   1958-03-17\n",
       "SITE                                                               AFETR\n",
       "DECAY_DATE                                                          None\n",
       "FILE                                                             3341695\n",
       "GP_ID                                                          197637637\n",
       "TLE_LINE0                                                   0 VANGUARD 1\n",
       "TLE_LINE1              1 00005U 58002B   22061.76964442  .00000283  0...\n",
       "TLE_LINE2              2 00005  34.2577 108.1274 1845170 277.3809  62...\n",
       "Name: 1, dtype: object"
      ]
     },
     "execution_count": 7,
     "metadata": {},
     "output_type": "execute_result"
    }
   ],
   "source": [
    "df.iloc[1]"
   ]
  },
  {
   "cell_type": "markdown",
   "id": "a2393796-f4c2-40c8-bae5-fecb76db0e03",
   "metadata": {},
   "source": [
    "What is nice about this dataset instead of garnering just two line element (TLE) data, is that the orbital elements are already split out in their own record/column.  The TLE element data is still needed when using the SGP4 library to propagate the orbits."
   ]
  },
  {
   "cell_type": "code",
   "execution_count": 8,
   "id": "c02d0ec4-d98b-44ae-8a40-3d239a29b10c",
   "metadata": {},
   "outputs": [
    {
     "data": {
      "text/plain": [
       "TEME    50468\n",
       "Name: REF_FRAME, dtype: int64"
      ]
     },
     "execution_count": 8,
     "metadata": {},
     "output_type": "execute_result"
    }
   ],
   "source": [
    "df['REF_FRAME'].value_counts()"
   ]
  },
  {
   "cell_type": "markdown",
   "id": "b0c5db86-fc6c-4908-99d5-5ea07907ea2e",
   "metadata": {},
   "source": [
    "Entire dataset is in True equator mean equinox, this is an inertia frame that is centered at the Earth’s and is not rotating with respect to the stars.  This is sufficient for the purposes of this study."
   ]
  },
  {
   "cell_type": "code",
   "execution_count": 9,
   "id": "4b90523a-da62-4556-95db-3cd1065eac50",
   "metadata": {},
   "outputs": [
    {
     "data": {
      "text/plain": [
       "SGP4    50468\n",
       "Name: MEAN_ELEMENT_THEORY, dtype: int64"
      ]
     },
     "execution_count": 9,
     "metadata": {},
     "output_type": "execute_result"
    }
   ],
   "source": [
    "df['MEAN_ELEMENT_THEORY'].value_counts()"
   ]
  },
  {
   "cell_type": "markdown",
   "id": "ec393c0a-3f00-464a-b06c-433fed3696d7",
   "metadata": {},
   "source": [
    "The general pertubation theory used for the entire set is SGP4."
   ]
  },
  {
   "cell_type": "code",
   "execution_count": 10,
   "id": "eaf6a20c-7e75-45b0-a72f-ad2b2c0c60fb",
   "metadata": {},
   "outputs": [
    {
     "data": {
      "text/plain": [
       "DECAY_DATE          25840\n",
       "RCS_SIZE            12299\n",
       "SITE                11046\n",
       "LAUNCH_DATE         11043\n",
       "COUNTRY_CODE        11041\n",
       "OBJECT_ID              74\n",
       "PERIAPSIS               0\n",
       "MEAN_MOTION_DOT         0\n",
       "MEAN_MOTION_DDOT        0\n",
       "SEMIMAJOR_AXIS          0\n",
       "dtype: int64"
      ]
     },
     "execution_count": 10,
     "metadata": {},
     "output_type": "execute_result"
    }
   ],
   "source": [
    "df.isnull().sum().sort_values(ascending=False).head(10)"
   ]
  },
  {
   "cell_type": "markdown",
   "id": "fd23b962-a59c-4be0-b4a8-a64eb5c3fba6",
   "metadata": {},
   "source": [
    "Decay date is the set time when the satellite is calculated to drop out of orbit due to forces such as atmospheric drag.  Many of the satellites will not have a value assigned because there is not a known decay date yet."
   ]
  },
  {
   "cell_type": "markdown",
   "id": "d44a07d0-9006-47c9-b194-531f85354045",
   "metadata": {},
   "source": [
    "This dataset not only contains satellites/objects currently in orbit, but also satellites as we have just seen that are no longer in orbit."
   ]
  },
  {
   "cell_type": "code",
   "execution_count": 11,
   "id": "00131753-273a-4016-8c6b-5a997b27a1e7",
   "metadata": {},
   "outputs": [
    {
     "data": {
      "text/plain": [
       "DEBRIS         31731\n",
       "PAYLOAD        11499\n",
       "ROCKET BODY     5985\n",
       "TBA             1253\n",
       "Name: OBJECT_TYPE, dtype: int64"
      ]
     },
     "execution_count": 11,
     "metadata": {},
     "output_type": "execute_result"
    }
   ],
   "source": [
    "df['OBJECT_TYPE'].value_counts()"
   ]
  },
  {
   "cell_type": "code",
   "execution_count": 12,
   "id": "797433af-10e4-497a-95a1-941c24f337ec",
   "metadata": {
    "tags": []
   },
   "outputs": [],
   "source": [
    "d1=df['NORAD_CAT_ID'].value_counts()>1"
   ]
  },
  {
   "cell_type": "code",
   "execution_count": 13,
   "id": "931ef7cc-f36f-4664-8724-1c2cde545dab",
   "metadata": {},
   "outputs": [
    {
     "data": {
      "text/plain": [
       "False"
      ]
     },
     "execution_count": 13,
     "metadata": {},
     "output_type": "execute_result"
    }
   ],
   "source": [
    "d1.values[0]"
   ]
  },
  {
   "cell_type": "code",
   "execution_count": 14,
   "id": "b7aba282-d94a-4150-b618-2d19a37acfb0",
   "metadata": {},
   "outputs": [],
   "source": [
    "filter1=[]\n",
    "for i in range(len(d1)):\n",
    "    if d1.values[i]: filter1.append(d1.index[i])"
   ]
  },
  {
   "cell_type": "code",
   "execution_count": 15,
   "id": "f826c84c-f6fa-4216-9622-12533fbea824",
   "metadata": {
    "tags": []
   },
   "outputs": [
    {
     "data": {
      "text/plain": [
       "[]"
      ]
     },
     "execution_count": 15,
     "metadata": {},
     "output_type": "execute_result"
    }
   ],
   "source": [
    "filter1"
   ]
  },
  {
   "cell_type": "markdown",
   "id": "0096f68a-88fb-431f-ae8f-5ecdad33edc1",
   "metadata": {},
   "source": [
    "There are a few entries that have the same NORAD category ID.  We will want to suppress the duplicates in this care or just drop given how few entries in this set exist.  If we continuously use updated sets however or make this code general it might be better to just make sure the duplicated entry is dropped."
   ]
  },
  {
   "cell_type": "markdown",
   "id": "af73e543-a58a-4fc3-bb85-fecba8e805d3",
   "metadata": {},
   "source": [
    "My understanding is that duplicated values are a consequence of NORAD picking up the same satellite twice during a data pull."
   ]
  },
  {
   "cell_type": "code",
   "execution_count": 16,
   "id": "02bc7f00-2bbd-473c-b42e-1099d46700a6",
   "metadata": {},
   "outputs": [
    {
     "data": {
      "text/html": [
       "<div>\n",
       "<style scoped>\n",
       "    .dataframe tbody tr th:only-of-type {\n",
       "        vertical-align: middle;\n",
       "    }\n",
       "\n",
       "    .dataframe tbody tr th {\n",
       "        vertical-align: top;\n",
       "    }\n",
       "\n",
       "    .dataframe thead th {\n",
       "        text-align: right;\n",
       "    }\n",
       "</style>\n",
       "<table border=\"1\" class=\"dataframe\">\n",
       "  <thead>\n",
       "    <tr style=\"text-align: right;\">\n",
       "      <th></th>\n",
       "      <th>CCSDS_OMM_VERS</th>\n",
       "      <th>COMMENT</th>\n",
       "      <th>CREATION_DATE</th>\n",
       "      <th>ORIGINATOR</th>\n",
       "      <th>OBJECT_NAME</th>\n",
       "      <th>OBJECT_ID</th>\n",
       "      <th>CENTER_NAME</th>\n",
       "      <th>REF_FRAME</th>\n",
       "      <th>TIME_SYSTEM</th>\n",
       "      <th>MEAN_ELEMENT_THEORY</th>\n",
       "      <th>...</th>\n",
       "      <th>RCS_SIZE</th>\n",
       "      <th>COUNTRY_CODE</th>\n",
       "      <th>LAUNCH_DATE</th>\n",
       "      <th>SITE</th>\n",
       "      <th>DECAY_DATE</th>\n",
       "      <th>FILE</th>\n",
       "      <th>GP_ID</th>\n",
       "      <th>TLE_LINE0</th>\n",
       "      <th>TLE_LINE1</th>\n",
       "      <th>TLE_LINE2</th>\n",
       "    </tr>\n",
       "  </thead>\n",
       "  <tbody>\n",
       "  </tbody>\n",
       "</table>\n",
       "<p>0 rows × 40 columns</p>\n",
       "</div>"
      ],
      "text/plain": [
       "Empty DataFrame\n",
       "Columns: [CCSDS_OMM_VERS, COMMENT, CREATION_DATE, ORIGINATOR, OBJECT_NAME, OBJECT_ID, CENTER_NAME, REF_FRAME, TIME_SYSTEM, MEAN_ELEMENT_THEORY, EPOCH, MEAN_MOTION, ECCENTRICITY, INCLINATION, RA_OF_ASC_NODE, ARG_OF_PERICENTER, MEAN_ANOMALY, EPHEMERIS_TYPE, CLASSIFICATION_TYPE, NORAD_CAT_ID, ELEMENT_SET_NO, REV_AT_EPOCH, BSTAR, MEAN_MOTION_DOT, MEAN_MOTION_DDOT, SEMIMAJOR_AXIS, PERIOD, APOAPSIS, PERIAPSIS, OBJECT_TYPE, RCS_SIZE, COUNTRY_CODE, LAUNCH_DATE, SITE, DECAY_DATE, FILE, GP_ID, TLE_LINE0, TLE_LINE1, TLE_LINE2]\n",
       "Index: []\n",
       "\n",
       "[0 rows x 40 columns]"
      ]
     },
     "execution_count": 16,
     "metadata": {},
     "output_type": "execute_result"
    }
   ],
   "source": [
    "df[df['NORAD_CAT_ID'].isin(filter1)].head(5)"
   ]
  },
  {
   "cell_type": "markdown",
   "id": "26844779-ff0f-4471-aa28-94673dc1ce06",
   "metadata": {},
   "source": [
    "No duplicates in this dataset, but it is something to be mindful of"
   ]
  },
  {
   "cell_type": "code",
   "execution_count": 17,
   "id": "c42ba874-0e0b-4925-9e0d-24a86bf7438d",
   "metadata": {},
   "outputs": [
    {
     "data": {
      "text/plain": [
       "13395"
      ]
     },
     "execution_count": 17,
     "metadata": {},
     "output_type": "execute_result"
    }
   ],
   "source": [
    "len(df['OBJECT_NAME'].unique())"
   ]
  },
  {
   "cell_type": "markdown",
   "id": "6f25cac6-80fa-4932-adef-2dd588e2db22",
   "metadata": {},
   "source": [
    "### Cleaning and Slicing"
   ]
  },
  {
   "cell_type": "markdown",
   "id": "2f3e2bbb-ecfb-4ebc-a0e5-c57672d4e29c",
   "metadata": {},
   "source": [
    "There are decayed satellites in the dataset, these will need to be removed.  It's a safe assumption for the purpose of this study to remove everything ~14 days prior to the data pull date.  In this case that is 03MAR2022."
   ]
  },
  {
   "cell_type": "code",
   "execution_count": 18,
   "id": "d608331f-8556-42f4-bccb-5d37799512c1",
   "metadata": {},
   "outputs": [],
   "source": [
    "df=df[df['EPOCH']>'2022-02-20T00:00:00'].copy(deep=True)"
   ]
  },
  {
   "cell_type": "code",
   "execution_count": 19,
   "id": "0fdfb521-0214-4184-9431-91036e4a96ea",
   "metadata": {},
   "outputs": [
    {
     "data": {
      "text/plain": [
       "(23934, 40)"
      ]
     },
     "execution_count": 19,
     "metadata": {},
     "output_type": "execute_result"
    }
   ],
   "source": [
    "df.shape"
   ]
  },
  {
   "cell_type": "code",
   "execution_count": 20,
   "id": "1528d6aa-fe4e-428f-b136-39133a33fce9",
   "metadata": {},
   "outputs": [
    {
     "data": {
      "text/plain": [
       "DECAY_DATE          23929\n",
       "RCS_SIZE             1116\n",
       "SITE                  717\n",
       "LAUNCH_DATE           717\n",
       "COUNTRY_CODE          717\n",
       "PERIAPSIS               0\n",
       "BSTAR                   0\n",
       "MEAN_MOTION_DOT         0\n",
       "MEAN_MOTION_DDOT        0\n",
       "SEMIMAJOR_AXIS          0\n",
       "dtype: int64"
      ]
     },
     "execution_count": 20,
     "metadata": {},
     "output_type": "execute_result"
    }
   ],
   "source": [
    "df.isnull().sum().sort_values(ascending=False).head(10)"
   ]
  },
  {
   "cell_type": "markdown",
   "id": "40de45c9-9497-434f-8a04-efbec29e1c71",
   "metadata": {},
   "source": [
    "Now the vast majority of our satellites do not have an assigned decay date, which is far more inline with what we expect in our active satellite dataset."
   ]
  },
  {
   "cell_type": "code",
   "execution_count": 21,
   "id": "26f53ecc-58ec-4540-958c-6218480087c3",
   "metadata": {},
   "outputs": [
    {
     "data": {
      "text/plain": [
       "DEBRIS         13045\n",
       "PAYLOAD         7838\n",
       "ROCKET BODY     2074\n",
       "TBA              977\n",
       "Name: OBJECT_TYPE, dtype: int64"
      ]
     },
     "execution_count": 21,
     "metadata": {},
     "output_type": "execute_result"
    }
   ],
   "source": [
    "df['OBJECT_TYPE'].value_counts()"
   ]
  },
  {
   "cell_type": "code",
   "execution_count": 22,
   "id": "da0ae42c-4b32-4c25-81ce-9ec945759d11",
   "metadata": {
    "tags": []
   },
   "outputs": [
    {
     "data": {
      "text/plain": [
       "0.545040528118994"
      ]
     },
     "execution_count": 22,
     "metadata": {},
     "output_type": "execute_result"
    }
   ],
   "source": [
    "df[df['OBJECT_TYPE']=='DEBRIS'].shape[0]/df.shape[0]"
   ]
  },
  {
   "cell_type": "markdown",
   "id": "0ff88c08-210a-4c88-93b3-fe5d8582147c",
   "metadata": {},
   "source": [
    "Per the data set, we have ~54.5% of the objects in orbit categorized as debris, however one might want to think of anything that is not a payload as an element of debris.  Additionally of the payloads in this set, only so many are currently active satellites capable of maneuvers."
   ]
  },
  {
   "cell_type": "code",
   "execution_count": 23,
   "id": "2780f629-f22b-4c8f-80ef-8288d2268354",
   "metadata": {},
   "outputs": [
    {
     "data": {
      "text/plain": [
       "count    23934.000000\n",
       "mean         0.063016\n",
       "std          0.173198\n",
       "min          0.000004\n",
       "25%          0.001114\n",
       "50%          0.004058\n",
       "75%          0.014418\n",
       "max          0.894916\n",
       "Name: ECCENTRICITY, dtype: float64"
      ]
     },
     "execution_count": 23,
     "metadata": {},
     "output_type": "execute_result"
    }
   ],
   "source": [
    "df['ECCENTRICITY'].describe()"
   ]
  },
  {
   "cell_type": "markdown",
   "id": "8d8473f1-9a93-4130-a13d-a05e9d31091e",
   "metadata": {},
   "source": [
    "Vast majority of the orbits are low eccentricity, close to circular orbits."
   ]
  },
  {
   "cell_type": "code",
   "execution_count": 24,
   "id": "143b2a74-9a43-4a55-9ddb-7e2c97e69b0a",
   "metadata": {},
   "outputs": [
    {
     "data": {
      "text/plain": [
       "count    5986.000000\n",
       "mean        0.241211\n",
       "std         0.278501\n",
       "min         0.014409\n",
       "25%         0.022529\n",
       "50%         0.057361\n",
       "75%         0.536053\n",
       "max         0.894916\n",
       "Name: ECCENTRICITY, dtype: float64"
      ]
     },
     "execution_count": 24,
     "metadata": {},
     "output_type": "execute_result"
    }
   ],
   "source": [
    "df[df['ECCENTRICITY']>0.0144].ECCENTRICITY.describe()"
   ]
  },
  {
   "cell_type": "markdown",
   "id": "0a5e7d42-c827-4f60-bfd8-456f29a76815",
   "metadata": {},
   "source": [
    "Even only the upper 25% of eccentrcity values fall in the more elliptical orbit shape"
   ]
  },
  {
   "cell_type": "code",
   "execution_count": 25,
   "id": "2475a47c-2f84-4a21-9cbc-095ee6c23190",
   "metadata": {},
   "outputs": [
    {
     "data": {
      "image/png": "[encoded data removed]",
      "text/plain": [
       "<Figure size 1152x720 with 1 Axes>"
      ]
     },
     "metadata": {
      "needs_background": "light"
     },
     "output_type": "display_data"
    }
   ],
   "source": [
    "plt.figure(figsize=(16,10))\n",
    "plt.title('Upper 75% Eccentricity Distribution',size=12)\n",
    "plt.xlabel('ECCENTRICITY', size = 12)\n",
    "plt.ylabel('Count', size = 12)\n",
    "sns.histplot(data=df[df['ECCENTRICITY']>0.0145], x=\"ECCENTRICITY\");"
   ]
  },
  {
   "cell_type": "markdown",
   "id": "c34d87d1-0336-45bb-a40c-08658af0fe6e",
   "metadata": {},
   "source": [
    "Since the eccentricity of 0 would be a circle the vast majority of our obrits are close to circular.  There are however a good deal of objects that do have far more elliptical orbits (histogram of everything above the 75% mark of the entire set for eccentricities)"
   ]
  },
  {
   "cell_type": "code",
   "execution_count": 26,
   "id": "6bfa75fe-1df8-4934-8bda-4f880c401eee",
   "metadata": {},
   "outputs": [
    {
     "data": {
      "text/plain": [
       "count     23934.000000\n",
       "mean      11316.759501\n",
       "std       10487.391389\n",
       "min        6509.054000\n",
       "25%        6988.425000\n",
       "50%        7227.085500\n",
       "75%        7806.234500\n",
       "max      372747.630000\n",
       "Name: SEMIMAJOR_AXIS, dtype: float64"
      ]
     },
     "execution_count": 26,
     "metadata": {},
     "output_type": "execute_result"
    }
   ],
   "source": [
    "df['SEMIMAJOR_AXIS'].describe()"
   ]
  },
  {
   "cell_type": "markdown",
   "id": "cd628bc8-7fd6-482f-afe7-f49b0e7f64c7",
   "metadata": {},
   "source": [
    "Earth diameter is 12742 km, therefore a 6371 km radius gives a nice relational distance to our semi-major axis.  Just assuming circular orbits for all orbits for a moment lets look at all satellites that are in the low earth orbit category (orbit is encompassed within 2000 km altitude)"
   ]
  },
  {
   "cell_type": "code",
   "execution_count": 27,
   "id": "646a8cc8-8b64-49f0-a721-2a4d174f865a",
   "metadata": {},
   "outputs": [
    {
     "data": {
      "text/plain": [
       "(19547, 40)"
      ]
     },
     "execution_count": 27,
     "metadata": {},
     "output_type": "execute_result"
    }
   ],
   "source": [
    "df[df['SEMIMAJOR_AXIS']<8371].shape"
   ]
  },
  {
   "cell_type": "code",
   "execution_count": 28,
   "id": "89e7a307-6e72-4caf-954e-971bf194ec39",
   "metadata": {},
   "outputs": [
    {
     "data": {
      "text/plain": [
       "0.8167042700760424"
      ]
     },
     "execution_count": 28,
     "metadata": {},
     "output_type": "execute_result"
    }
   ],
   "source": [
    "df[df['SEMIMAJOR_AXIS']<8371].shape[0]/df.shape[0]"
   ]
  },
  {
   "cell_type": "markdown",
   "id": "07825973-85b1-4242-bb81-a47ae016515f",
   "metadata": {},
   "source": [
    "Potentially 81% of the satellites in our dataset are in low earth orbit.  If the apogee and perigee are both underneath 2000 km then that satellite is always less then 2000 km in altiude."
   ]
  },
  {
   "cell_type": "code",
   "execution_count": 29,
   "id": "3cbdd97a-fde7-43fe-a108-215bddd2daf3",
   "metadata": {},
   "outputs": [
    {
     "data": {
      "text/plain": [
       "(19139, 40)"
      ]
     },
     "execution_count": 29,
     "metadata": {},
     "output_type": "execute_result"
    }
   ],
   "source": [
    "df[(df['APOAPSIS']<2000) & (df['PERIAPSIS']<2000)].shape"
   ]
  },
  {
   "cell_type": "markdown",
   "id": "2d4a605d-b9af-4d55-9d9d-dfe2749a6e45",
   "metadata": {},
   "source": [
    "Again since most of our orbits are close to circular the previous assumption was mostly correct.  Most of our data-set is in low earth obrit."
   ]
  },
  {
   "cell_type": "code",
   "execution_count": 30,
   "id": "c5e103a6-6f7a-476b-ba48-96458b234d99",
   "metadata": {},
   "outputs": [
    {
     "data": {
      "text/plain": [
       "(11218, 40)"
      ]
     },
     "execution_count": 30,
     "metadata": {},
     "output_type": "execute_result"
    }
   ],
   "source": [
    "df[(df['APOAPSIS']<2000) & (df['PERIAPSIS']<2000) & (df['OBJECT_NAME'].str.contains('DEB'))].shape"
   ]
  },
  {
   "cell_type": "code",
   "execution_count": 31,
   "id": "ef659291-a589-4cf5-9378-8adda674b1a7",
   "metadata": {
    "tags": []
   },
   "outputs": [
    {
     "data": {
      "text/plain": [
       "0.8693428394296342"
      ]
     },
     "execution_count": 31,
     "metadata": {},
     "output_type": "execute_result"
    }
   ],
   "source": [
    "(df[(df['APOAPSIS']<2000) & (df['PERIAPSIS']<2000) & (df['OBJECT_NAME'].str.contains('DEB'))].shape[0])/df[df['OBJECT_NAME'].str.contains('DEB')].shape[0]"
   ]
  },
  {
   "cell_type": "markdown",
   "id": "26b78c0a-297f-4871-9a71-eb2958e57ace",
   "metadata": {},
   "source": [
    "Also looking at the object_type categorization."
   ]
  },
  {
   "cell_type": "markdown",
   "id": "558d7d69-d832-40a7-9ca4-568eedee9167",
   "metadata": {},
   "source": [
    "This presents an interesting potentially focus point of the project.  Potentially honing the target of the study to be focusing on low earth satellites and debris.  "
   ]
  },
  {
   "cell_type": "markdown",
   "id": "a690404b-e631-4123-bd30-7004d04e88bb",
   "metadata": {},
   "source": [
    "Note: SpaceTrack does define debris as: Any object with the string 'DEB' or 'COOLANT' or 'SHROUD' or 'WESTFORD NEEDLES' in the SATCAT object common name.  In low earth, there are ~100 objects that have 'COOLANT' in the name, but its potentially easier to view this count from OBJECT_TYPE."
   ]
  },
  {
   "cell_type": "code",
   "execution_count": 32,
   "id": "d2b98517-303a-4c98-833d-353992ec41bf",
   "metadata": {},
   "outputs": [
    {
     "data": {
      "text/html": [
       "<div>\n",
       "<style scoped>\n",
       "    .dataframe tbody tr th:only-of-type {\n",
       "        vertical-align: middle;\n",
       "    }\n",
       "\n",
       "    .dataframe tbody tr th {\n",
       "        vertical-align: top;\n",
       "    }\n",
       "\n",
       "    .dataframe thead th {\n",
       "        text-align: right;\n",
       "    }\n",
       "</style>\n",
       "<table border=\"1\" class=\"dataframe\">\n",
       "  <thead>\n",
       "    <tr style=\"text-align: right;\">\n",
       "      <th></th>\n",
       "      <th>CCSDS_OMM_VERS</th>\n",
       "      <th>COMMENT</th>\n",
       "      <th>CREATION_DATE</th>\n",
       "      <th>ORIGINATOR</th>\n",
       "      <th>OBJECT_NAME</th>\n",
       "      <th>OBJECT_ID</th>\n",
       "      <th>CENTER_NAME</th>\n",
       "      <th>REF_FRAME</th>\n",
       "      <th>TIME_SYSTEM</th>\n",
       "      <th>MEAN_ELEMENT_THEORY</th>\n",
       "      <th>...</th>\n",
       "      <th>RCS_SIZE</th>\n",
       "      <th>COUNTRY_CODE</th>\n",
       "      <th>LAUNCH_DATE</th>\n",
       "      <th>SITE</th>\n",
       "      <th>DECAY_DATE</th>\n",
       "      <th>FILE</th>\n",
       "      <th>GP_ID</th>\n",
       "      <th>TLE_LINE0</th>\n",
       "      <th>TLE_LINE1</th>\n",
       "      <th>TLE_LINE2</th>\n",
       "    </tr>\n",
       "  </thead>\n",
       "  <tbody>\n",
       "    <tr>\n",
       "      <th>42028</th>\n",
       "      <td>2</td>\n",
       "      <td>GENERATED VIA SPACE-TRACK.ORG API</td>\n",
       "      <td>2022-03-03T06:36:15</td>\n",
       "      <td>18 SPCS</td>\n",
       "      <td>STARLINK-24</td>\n",
       "      <td>2019-029D</td>\n",
       "      <td>EARTH</td>\n",
       "      <td>TEME</td>\n",
       "      <td>UTC</td>\n",
       "      <td>SGP4</td>\n",
       "      <td>...</td>\n",
       "      <td>LARGE</td>\n",
       "      <td>US</td>\n",
       "      <td>2019-05-24</td>\n",
       "      <td>AFETR</td>\n",
       "      <td>None</td>\n",
       "      <td>3341808</td>\n",
       "      <td>197665955</td>\n",
       "      <td>0 STARLINK-24</td>\n",
       "      <td>1 44238U 19029D   22061.97935117  .00027606  0...</td>\n",
       "      <td>2 44238  52.9982 244.8552 0000889  72.1921 287...</td>\n",
       "    </tr>\n",
       "    <tr>\n",
       "      <th>42039</th>\n",
       "      <td>2</td>\n",
       "      <td>GENERATED VIA SPACE-TRACK.ORG API</td>\n",
       "      <td>2022-03-03T06:26:15</td>\n",
       "      <td>18 SPCS</td>\n",
       "      <td>STARLINK-61</td>\n",
       "      <td>2019-029Q</td>\n",
       "      <td>EARTH</td>\n",
       "      <td>TEME</td>\n",
       "      <td>UTC</td>\n",
       "      <td>SGP4</td>\n",
       "      <td>...</td>\n",
       "      <td>LARGE</td>\n",
       "      <td>US</td>\n",
       "      <td>2019-05-24</td>\n",
       "      <td>AFETR</td>\n",
       "      <td>None</td>\n",
       "      <td>3341759</td>\n",
       "      <td>197664327</td>\n",
       "      <td>0 STARLINK-61</td>\n",
       "      <td>1 44249U 19029Q   22062.12568094  .00051102  0...</td>\n",
       "      <td>2 44249  52.9775 207.3375 0004851 177.6783 182...</td>\n",
       "    </tr>\n",
       "    <tr>\n",
       "      <th>42042</th>\n",
       "      <td>2</td>\n",
       "      <td>GENERATED VIA SPACE-TRACK.ORG API</td>\n",
       "      <td>2022-03-03T03:48:30</td>\n",
       "      <td>18 SPCS</td>\n",
       "      <td>STARLINK-71</td>\n",
       "      <td>2019-029T</td>\n",
       "      <td>EARTH</td>\n",
       "      <td>TEME</td>\n",
       "      <td>UTC</td>\n",
       "      <td>SGP4</td>\n",
       "      <td>...</td>\n",
       "      <td>LARGE</td>\n",
       "      <td>US</td>\n",
       "      <td>2019-05-24</td>\n",
       "      <td>AFETR</td>\n",
       "      <td>None</td>\n",
       "      <td>3341695</td>\n",
       "      <td>197657262</td>\n",
       "      <td>0 STARLINK-71</td>\n",
       "      <td>1 44252U 19029T   22061.89669220  .00026021  0...</td>\n",
       "      <td>2 44252  53.0013 242.9456 0002635 353.8315   6...</td>\n",
       "    </tr>\n",
       "    <tr>\n",
       "      <th>42072</th>\n",
       "      <td>2</td>\n",
       "      <td>GENERATED VIA SPACE-TRACK.ORG API</td>\n",
       "      <td>2022-03-02T22:26:15</td>\n",
       "      <td>18 SPCS</td>\n",
       "      <td>STARLINK-80</td>\n",
       "      <td>2019-029AZ</td>\n",
       "      <td>EARTH</td>\n",
       "      <td>TEME</td>\n",
       "      <td>UTC</td>\n",
       "      <td>SGP4</td>\n",
       "      <td>...</td>\n",
       "      <td>LARGE</td>\n",
       "      <td>US</td>\n",
       "      <td>2019-05-24</td>\n",
       "      <td>AFETR</td>\n",
       "      <td>None</td>\n",
       "      <td>3341428</td>\n",
       "      <td>197630689</td>\n",
       "      <td>0 STARLINK-80</td>\n",
       "      <td>1 44282U 19029AZ  22061.51885127  .00066433  0...</td>\n",
       "      <td>2 44282  53.0134 142.7215 0006188   9.1628 350...</td>\n",
       "    </tr>\n",
       "    <tr>\n",
       "      <th>42501</th>\n",
       "      <td>2</td>\n",
       "      <td>GENERATED VIA SPACE-TRACK.ORG API</td>\n",
       "      <td>2022-03-03T03:48:30</td>\n",
       "      <td>18 SPCS</td>\n",
       "      <td>STARLINK-1007</td>\n",
       "      <td>2019-074A</td>\n",
       "      <td>EARTH</td>\n",
       "      <td>TEME</td>\n",
       "      <td>UTC</td>\n",
       "      <td>SGP4</td>\n",
       "      <td>...</td>\n",
       "      <td>LARGE</td>\n",
       "      <td>US</td>\n",
       "      <td>2019-11-11</td>\n",
       "      <td>AFETR</td>\n",
       "      <td>None</td>\n",
       "      <td>3341695</td>\n",
       "      <td>197656299</td>\n",
       "      <td>0 STARLINK-1007</td>\n",
       "      <td>1 44713U 19074A   22061.86713943  .00000738  0...</td>\n",
       "      <td>2 44713  53.0537 295.9284 0001579  86.7477 273...</td>\n",
       "    </tr>\n",
       "  </tbody>\n",
       "</table>\n",
       "<p>5 rows × 40 columns</p>\n",
       "</div>"
      ],
      "text/plain": [
       "       CCSDS_OMM_VERS                            COMMENT        CREATION_DATE  \\\n",
       "42028               2  GENERATED VIA SPACE-TRACK.ORG API  2022-03-03T06:36:15   \n",
       "42039               2  GENERATED VIA SPACE-TRACK.ORG API  2022-03-03T06:26:15   \n",
       "42042               2  GENERATED VIA SPACE-TRACK.ORG API  2022-03-03T03:48:30   \n",
       "42072               2  GENERATED VIA SPACE-TRACK.ORG API  2022-03-02T22:26:15   \n",
       "42501               2  GENERATED VIA SPACE-TRACK.ORG API  2022-03-03T03:48:30   \n",
       "\n",
       "      ORIGINATOR    OBJECT_NAME   OBJECT_ID CENTER_NAME REF_FRAME TIME_SYSTEM  \\\n",
       "42028    18 SPCS    STARLINK-24   2019-029D       EARTH      TEME         UTC   \n",
       "42039    18 SPCS    STARLINK-61   2019-029Q       EARTH      TEME         UTC   \n",
       "42042    18 SPCS    STARLINK-71   2019-029T       EARTH      TEME         UTC   \n",
       "42072    18 SPCS    STARLINK-80  2019-029AZ       EARTH      TEME         UTC   \n",
       "42501    18 SPCS  STARLINK-1007   2019-074A       EARTH      TEME         UTC   \n",
       "\n",
       "      MEAN_ELEMENT_THEORY  ... RCS_SIZE  COUNTRY_CODE  LAUNCH_DATE   SITE  \\\n",
       "42028                SGP4  ...    LARGE            US   2019-05-24  AFETR   \n",
       "42039                SGP4  ...    LARGE            US   2019-05-24  AFETR   \n",
       "42042                SGP4  ...    LARGE            US   2019-05-24  AFETR   \n",
       "42072                SGP4  ...    LARGE            US   2019-05-24  AFETR   \n",
       "42501                SGP4  ...    LARGE            US   2019-11-11  AFETR   \n",
       "\n",
       "       DECAY_DATE     FILE      GP_ID        TLE_LINE0  \\\n",
       "42028        None  3341808  197665955    0 STARLINK-24   \n",
       "42039        None  3341759  197664327    0 STARLINK-61   \n",
       "42042        None  3341695  197657262    0 STARLINK-71   \n",
       "42072        None  3341428  197630689    0 STARLINK-80   \n",
       "42501        None  3341695  197656299  0 STARLINK-1007   \n",
       "\n",
       "                                               TLE_LINE1  \\\n",
       "42028  1 44238U 19029D   22061.97935117  .00027606  0...   \n",
       "42039  1 44249U 19029Q   22062.12568094  .00051102  0...   \n",
       "42042  1 44252U 19029T   22061.89669220  .00026021  0...   \n",
       "42072  1 44282U 19029AZ  22061.51885127  .00066433  0...   \n",
       "42501  1 44713U 19074A   22061.86713943  .00000738  0...   \n",
       "\n",
       "                                               TLE_LINE2  \n",
       "42028  2 44238  52.9982 244.8552 0000889  72.1921 287...  \n",
       "42039  2 44249  52.9775 207.3375 0004851 177.6783 182...  \n",
       "42042  2 44252  53.0013 242.9456 0002635 353.8315   6...  \n",
       "42072  2 44282  53.0134 142.7215 0006188   9.1628 350...  \n",
       "42501  2 44713  53.0537 295.9284 0001579  86.7477 273...  \n",
       "\n",
       "[5 rows x 40 columns]"
      ]
     },
     "execution_count": 32,
     "metadata": {},
     "output_type": "execute_result"
    }
   ],
   "source": [
    "df[df['OBJECT_NAME'].str.contains('STARLINK')].head(5)"
   ]
  },
  {
   "cell_type": "markdown",
   "id": "0ecafe7b-e8c1-4ac3-8730-9514cd46396d",
   "metadata": {},
   "source": [
    "Looks like we can sort our data by the Starlink satellites as well."
   ]
  },
  {
   "cell_type": "code",
   "execution_count": 33,
   "id": "b352e06b-396c-4d42-aca2-f4c897186769",
   "metadata": {},
   "outputs": [
    {
     "data": {
      "text/plain": [
       "1919"
      ]
     },
     "execution_count": 33,
     "metadata": {},
     "output_type": "execute_result"
    }
   ],
   "source": [
    "df[df['OBJECT_NAME'].str.contains('STARLINK')].shape[0]"
   ]
  },
  {
   "cell_type": "code",
   "execution_count": 34,
   "id": "b1c006ec-fc0c-4f6d-b036-475d24fc9c15",
   "metadata": {},
   "outputs": [
    {
     "data": {
      "text/plain": [
       "array(['US', 'CA', 'CIS', 'ITSO', 'FR', 'GER', 'UK', 'AUS', 'NATO', 'PRC',\n",
       "       'JPN', 'SPN', 'FGER', 'INDO', 'ESA', 'IT', 'IND', 'EUTE', 'ARGN',\n",
       "       'AB', 'BRAZ', 'MEX', 'SWED', 'RP', 'NETH', 'SES', 'CZCH', 'AC',\n",
       "       'NOR', 'IM', 'SKOR', 'GREC', 'POR', 'EUME', 'THAI', 'TURK', 'ORB',\n",
       "       'UKR', 'ISRA', 'MALA', 'PAKI', 'GLOB', 'EGYP', 'CHLE', 'STCT',\n",
       "       'ISS', 'ROC', 'DEN', 'SAFR', 'SEAL', 'CHBZ', 'SAUD', 'UAE', 'NICO',\n",
       "       'ALG', 'NIG', 'USBZ', 'IRAN', 'KAZ', 'COL', 'RASC', 'VTNM', 'VENZ',\n",
       "       'SWTZ', 'SING', 'LUXE', 'BELA', 'NKOR', 'AZER', 'ASRA', 'ECU',\n",
       "       'EST', 'O3B', 'QAT', 'POL', 'PER', 'BOL', 'FRIT', 'BEL', 'URY',\n",
       "       'IRAQ', 'TMMC', 'LAOS', 'BERM', 'LTU', 'FIN', 'BGR', 'TBD', 'MA',\n",
       "       'AGO', 'BGD', 'JOR', 'SDN', 'RWA', 'SVN', 'NZ', 'PRY', 'TUN',\n",
       "       'HUN', 'MMR', 'MUS', 'KWT', None], dtype=object)"
      ]
     },
     "execution_count": 34,
     "metadata": {},
     "output_type": "execute_result"
    }
   ],
   "source": [
    "df['COUNTRY_CODE'].unique()"
   ]
  },
  {
   "cell_type": "code",
   "execution_count": 35,
   "id": "4c76a053-5c99-4041-ac02-36b0fb5ae7fa",
   "metadata": {},
   "outputs": [
    {
     "data": {
      "text/plain": [
       "US      8226\n",
       "CIS     7849\n",
       "PRC     4114\n",
       "FR       529\n",
       "UK       482\n",
       "JPN      282\n",
       "IND      211\n",
       "ESA      133\n",
       "TBD      131\n",
       "ITSO      91\n",
       "Name: COUNTRY_CODE, dtype: int64"
      ]
     },
     "execution_count": 35,
     "metadata": {},
     "output_type": "execute_result"
    }
   ],
   "source": [
    "df['COUNTRY_CODE'].value_counts().head(10)"
   ]
  },
  {
   "cell_type": "markdown",
   "id": "91a81803-8622-4ac6-aa6a-842ef35adf7a",
   "metadata": {},
   "source": [
    "Not surprisingly the US is the more prominent state, with CIS nations (think ex-USSR states) coming in second, and PRC being China in third."
   ]
  },
  {
   "cell_type": "code",
   "execution_count": 36,
   "id": "f6696da1-8491-4973-8443-b1ffaa310cce",
   "metadata": {},
   "outputs": [],
   "source": [
    "df1=df.copy(deep=True)"
   ]
  },
  {
   "cell_type": "code",
   "execution_count": 37,
   "id": "81083864-db82-4842-a5e6-13e7c06165c8",
   "metadata": {},
   "outputs": [],
   "source": [
    "df2=df1[~df1['LAUNCH_DATE'].isnull()].copy(deep=True)"
   ]
  },
  {
   "cell_type": "code",
   "execution_count": 38,
   "id": "69879f2c-991d-4b75-b30d-8f632c90ba4e",
   "metadata": {},
   "outputs": [
    {
     "data": {
      "text/plain": [
       "(23217, 40)"
      ]
     },
     "execution_count": 38,
     "metadata": {},
     "output_type": "execute_result"
    }
   ],
   "source": [
    "df2.shape"
   ]
  },
  {
   "cell_type": "code",
   "execution_count": 39,
   "id": "bc15c951-cf9c-43a0-a119-a813f10c4e90",
   "metadata": {},
   "outputs": [],
   "source": [
    "df2['LAUNCH_DATE'] = pd.to_datetime(df2.LAUNCH_DATE, \n",
    "                             format='%Y/%m/%d', \n",
    "                             errors='coerce')"
   ]
  },
  {
   "cell_type": "code",
   "execution_count": 40,
   "id": "41cf989e-5995-402f-b731-a84233364874",
   "metadata": {},
   "outputs": [],
   "source": [
    "df2['CPLOT']=df2['COUNTRY_CODE'].apply(lambda x: x if x in ['US','PRC','CIS'] else 'Other')"
   ]
  },
  {
   "cell_type": "markdown",
   "id": "f2333d69-c3eb-4591-820e-b9e4c17d45df",
   "metadata": {},
   "source": [
    "Creating another column for a plot"
   ]
  },
  {
   "cell_type": "code",
   "execution_count": 41,
   "id": "37c7d065-20d9-436f-953b-33ad83451205",
   "metadata": {},
   "outputs": [
    {
     "data": {
      "image/png": "[encoded data removed]",
      "text/plain": [
       "<Figure size 1152x720 with 1 Axes>"
      ]
     },
     "metadata": {
      "needs_background": "light"
     },
     "output_type": "display_data"
    }
   ],
   "source": [
    "plt.figure(figsize=(16,10))\n",
    "plt.title('Launch Date of Dataset Entries',size=12)\n",
    "plt.xlabel('Year', size = 12)\n",
    "plt.ylabel('Count', size = 12)\n",
    "sns.histplot(data=df2,\n",
    "             x='LAUNCH_DATE',\n",
    "            );"
   ]
  },
  {
   "cell_type": "markdown",
   "id": "bb13d81c-ded2-4191-864f-42589d14da7e",
   "metadata": {},
   "source": [
    "Quick plot of a launch date tally.   The early 2000s were a lot less active then I would have expected.  The upswing in the late 2010's -> 2020's are probably in part a consequence of SpaceX now deploying Starlink."
   ]
  },
  {
   "cell_type": "code",
   "execution_count": 58,
   "id": "472b77d6-865d-4b6d-bcad-94d78bba60cc",
   "metadata": {},
   "outputs": [
    {
     "data": {
      "image/png": "[encoded data removed]",
      "text/plain": [
       "<Figure size 1152x720 with 1 Axes>"
      ]
     },
     "metadata": {
      "needs_background": "light"
     },
     "output_type": "display_data"
    }
   ],
   "source": [
    "plt.figure(figsize=(16,10))\n",
    "plt.title('Launch Date of Dataset Entries, Major Countries',size=12)\n",
    "plt.xlabel('Year', size = 12)\n",
    "plt.ylabel('Count', size = 12)\n",
    "sns.histplot(data=df2,x='LAUNCH_DATE',hue='CPLOT',multiple='stack');\n",
    "plt.legend(title='Launch Origin', loc='upper left', labels=['PRC', 'CIS','Other','US']);\n",
    "#plt.savefig(fname='Launch_countries.png')"
   ]
  },
  {
   "cell_type": "markdown",
   "id": "82ee87d8-fadc-4373-a0ae-fb16cfe8f1c6",
   "metadata": {},
   "source": [
    "It's very interesting to see the activity of the three major players change over time.  The USSR in the late 70s and 80s had a large number of launches.  China had a major push in the late 90s and is only beginning to pick up steam again.  The US has massively increased launches thanks to SpaceX becoming a major player in the mid 2010's.  Keep in mind these are the satellites deployed and are a part of a public data-set.  Many micro-satellites can be sent up in one rocket!"
   ]
  },
  {
   "cell_type": "code",
   "execution_count": 43,
   "id": "3389b8e3-7015-4fec-9d12-1f97897108a2",
   "metadata": {},
   "outputs": [
    {
     "data": {
      "text/plain": [
       "(8617, 41)"
      ]
     },
     "execution_count": 43,
     "metadata": {},
     "output_type": "execute_result"
    }
   ],
   "source": [
    "df2[(df2['LAUNCH_DATE']>datetime.fromisoformat('2000-01-01'))].shape"
   ]
  },
  {
   "cell_type": "code",
   "execution_count": 44,
   "id": "e3bbed29-9c33-4d69-8cb6-acce98116ba4",
   "metadata": {},
   "outputs": [
    {
     "data": {
      "text/plain": [
       "US     4120\n",
       "PRC    1255\n",
       "CIS    1144\n",
       "UK      464\n",
       "FR      206\n",
       "IND     190\n",
       "JPN     176\n",
       "TBD     122\n",
       "ESA      67\n",
       "GER      60\n",
       "Name: COUNTRY_CODE, dtype: int64"
      ]
     },
     "execution_count": 44,
     "metadata": {},
     "output_type": "execute_result"
    }
   ],
   "source": [
    "df2[(df2['LAUNCH_DATE']>datetime.fromisoformat('2000-01-01'))].COUNTRY_CODE.value_counts().head(10)"
   ]
  },
  {
   "cell_type": "markdown",
   "id": "67a50bfc-ea7f-42a6-9a7d-0af4097d443c",
   "metadata": {},
   "source": [
    "United States, People's Republic of China and CIS again in top three with China having the second most launches since 2000."
   ]
  },
  {
   "cell_type": "code",
   "execution_count": 45,
   "id": "caf68c3f-b3b9-4104-90e0-e1f8877f480b",
   "metadata": {
    "tags": []
   },
   "outputs": [
    {
     "data": {
      "text/plain": [
       "count    6062.000000\n",
       "mean     7112.434654\n",
       "std       339.123364\n",
       "min      6532.605000\n",
       "25%      6906.786500\n",
       "50%      6925.372000\n",
       "75%      7238.490000\n",
       "max      8369.574000\n",
       "Name: SEMIMAJOR_AXIS, dtype: float64"
      ]
     },
     "execution_count": 45,
     "metadata": {},
     "output_type": "execute_result"
    }
   ],
   "source": [
    "df2[(df2['OBJECT_TYPE']=='PAYLOAD') & ((df2['SEMIMAJOR_AXIS']<=8371) & (df2['SEMIMAJOR_AXIS']>=6508))].SEMIMAJOR_AXIS.describe()"
   ]
  },
  {
   "cell_type": "code",
   "execution_count": 46,
   "id": "7a34620e-0641-4a95-b09d-d46bbd2d98d1",
   "metadata": {},
   "outputs": [
    {
     "data": {
      "text/plain": [
       "count    12819.000000\n",
       "mean      7243.094630\n",
       "std        299.697989\n",
       "min       6509.054000\n",
       "25%       7066.272000\n",
       "50%       7202.277000\n",
       "75%       7353.542000\n",
       "max       8368.318000\n",
       "Name: SEMIMAJOR_AXIS, dtype: float64"
      ]
     },
     "execution_count": 46,
     "metadata": {},
     "output_type": "execute_result"
    }
   ],
   "source": [
    "df2[~(df2['OBJECT_TYPE']=='PAYLOAD') & ((df2['SEMIMAJOR_AXIS']<=8371) & (df2['SEMIMAJOR_AXIS']>=6508))].SEMIMAJOR_AXIS.describe()"
   ]
  },
  {
   "cell_type": "code",
   "execution_count": 47,
   "id": "f0a26b56-3e54-46ae-b5fd-aa6b764f066b",
   "metadata": {},
   "outputs": [
    {
     "data": {
      "image/png": "[encoded data removed]",
      "text/plain": [
       "<Figure size 1152x720 with 1 Axes>"
      ]
     },
     "metadata": {
      "needs_background": "light"
     },
     "output_type": "display_data"
    }
   ],
   "source": [
    "plt.figure(figsize=(16,10))\n",
    "plt.title('Semi-major Axis LEO, Payloads Only',size=12)\n",
    "plt.xlabel('Semi-major Axis (km)', size = 12)\n",
    "plt.ylabel('Count', size = 12)\n",
    "sns.histplot(data=df2[(df2['OBJECT_TYPE']=='PAYLOAD') & ((df2['SEMIMAJOR_AXIS']<=8371) & (df2['SEMIMAJOR_AXIS']>=6508))],x='SEMIMAJOR_AXIS');"
   ]
  },
  {
   "cell_type": "markdown",
   "id": "64e9f356-68ad-43ed-b237-81c8efd7e77a",
   "metadata": {},
   "source": [
    "The large concentration of satellites between 6600 km's and 7000 km's is due to the STARLINK constellations"
   ]
  },
  {
   "cell_type": "code",
   "execution_count": 48,
   "id": "0c4f14b9-1be3-497f-ab21-d1957959121f",
   "metadata": {},
   "outputs": [
    {
     "data": {
      "text/plain": [
       "count    1919.000000\n",
       "mean     6899.249535\n",
       "std        62.918786\n",
       "min      6532.605000\n",
       "25%      6925.306000\n",
       "50%      6925.342000\n",
       "75%      6925.361000\n",
       "max      6950.462000\n",
       "Name: SEMIMAJOR_AXIS, dtype: float64"
      ]
     },
     "execution_count": 48,
     "metadata": {},
     "output_type": "execute_result"
    }
   ],
   "source": [
    "df2[df2['OBJECT_NAME'].str.contains('STARLINK')].SEMIMAJOR_AXIS.describe()"
   ]
  },
  {
   "cell_type": "markdown",
   "id": "8d8003fc-5673-416e-a55c-ec77e25febe3",
   "metadata": {},
   "source": [
    "Above description for all 'STARLINK' sats show that the concentration seen in the histogram is indeed that satellite constellation."
   ]
  },
  {
   "cell_type": "code",
   "execution_count": 49,
   "id": "479e1353-68e8-4c86-8d91-d5c52e11d72f",
   "metadata": {},
   "outputs": [],
   "source": [
    "df_l=df2[(df2['OBJECT_TYPE']=='PAYLOAD') & (df2['SEMIMAJOR_AXIS']<=8371)].copy(deep=True)"
   ]
  },
  {
   "cell_type": "code",
   "execution_count": 50,
   "id": "3a104fac-93d1-4af5-b239-014c01ca00d4",
   "metadata": {},
   "outputs": [],
   "source": [
    "df_al=df2[(df2['OBJECT_TYPE']=='PAYLOAD') & (df2['SEMIMAJOR_AXIS']<=100000) & (df2['SEMIMAJOR_AXIS']>=8371)].copy(deep=True)"
   ]
  },
  {
   "cell_type": "code",
   "execution_count": 51,
   "id": "d602a31a-f130-40c0-a777-4244248ae87b",
   "metadata": {},
   "outputs": [
    {
     "data": {
      "image/png": "[encoded data removed]",
      "text/plain": [
       "<Figure size 1152x720 with 1 Axes>"
      ]
     },
     "metadata": {
      "needs_background": "light"
     },
     "output_type": "display_data"
    }
   ],
   "source": [
    "plt.figure(figsize=(16,10))\n",
    "plt.title('Semi-major Axis Orbits Beyond LEO',size=12)\n",
    "plt.xlabel('Semi-major Axis (km)', size = 12)\n",
    "plt.ylabel('Count', size = 12)\n",
    "sns.histplot(data=df_al,x='SEMIMAJOR_AXIS');"
   ]
  },
  {
   "cell_type": "code",
   "execution_count": 52,
   "id": "3a44dacc-164f-42b2-ab84-a3b0503ee707",
   "metadata": {},
   "outputs": [
    {
     "data": {
      "text/plain": [
       "count    23934.000000\n",
       "mean        72.686518\n",
       "std         29.024511\n",
       "min          0.001600\n",
       "25%         53.217400\n",
       "50%         82.542650\n",
       "75%         98.158575\n",
       "max        144.639900\n",
       "Name: INCLINATION, dtype: float64"
      ]
     },
     "execution_count": 52,
     "metadata": {},
     "output_type": "execute_result"
    }
   ],
   "source": [
    "df.INCLINATION.describe()"
   ]
  },
  {
   "cell_type": "code",
   "execution_count": 53,
   "id": "a4b290d2-42d0-4938-b37f-c567881cb162",
   "metadata": {},
   "outputs": [
    {
     "data": {
      "image/png": "[encoded data removed]",
      "text/plain": [
       "<Figure size 1152x720 with 1 Axes>"
      ]
     },
     "metadata": {
      "needs_background": "light"
     },
     "output_type": "display_data"
    }
   ],
   "source": [
    "plt.figure(figsize=(16,10))\n",
    "plt.title('LEO Payload Orbit Inclination',size=12)\n",
    "plt.xlabel('Orbital Inclination (deg)', size = 12)\n",
    "plt.ylabel('Count', size = 12)\n",
    "sns.histplot(data=df_l,x='INCLINATION');"
   ]
  },
  {
   "cell_type": "markdown",
   "id": "9442b6d2-61f7-47ea-b95b-0cb84fe1e1f2",
   "metadata": {},
   "source": [
    "Satellites in low earth orbit inclinations are mostly all above 40 degrees, there is also a good number that are just beyond a polar orbit and are retrograde."
   ]
  },
  {
   "cell_type": "code",
   "execution_count": 54,
   "id": "f4033d36-4116-4378-92d1-89d1e723c482",
   "metadata": {},
   "outputs": [
    {
     "data": {
      "image/png": "[encoded data removed]",
      "text/plain": [
       "<Figure size 1152x720 with 1 Axes>"
      ]
     },
     "metadata": {
      "needs_background": "light"
     },
     "output_type": "display_data"
    }
   ],
   "source": [
    "plt.figure(figsize=(16,10))\n",
    "plt.title('LEO Orbit Inclination All Objects',size=12)\n",
    "plt.xlabel('Orbital Inclination (deg)', size = 12)\n",
    "plt.ylabel('Count', size = 12)\n",
    "sns.histplot(data=df2[df2['SEMIMAJOR_AXIS']<=8371],x='INCLINATION',hue='OBJECT_TYPE',multiple='stack',palette='colorblind');"
   ]
  },
  {
   "cell_type": "markdown",
   "id": "6089c364-a31e-44af-a6b8-87a1f488e4b4",
   "metadata": {},
   "source": [
    "The large increase in counts at inclinations above 90 degree's shows how many nonpayload objects are in retrograde orbit in LEO."
   ]
  },
  {
   "cell_type": "code",
   "execution_count": 55,
   "id": "bfc050ec-d137-4df3-b2cf-63716bcc4d30",
   "metadata": {},
   "outputs": [
    {
     "data": {
      "text/plain": [
       "<AxesSubplot:title={'center':'Medium to GEO Orbit Inclinations'}, xlabel='Orbital Inclination (deg)', ylabel='Count'>"
      ]
     },
     "execution_count": 55,
     "metadata": {},
     "output_type": "execute_result"
    },
    {
     "data": {
      "image/png": "[encoded data removed]",
      "text/plain": [
       "<Figure size 1152x720 with 1 Axes>"
      ]
     },
     "metadata": {
      "needs_background": "light"
     },
     "output_type": "display_data"
    }
   ],
   "source": [
    "plt.figure(figsize=(16,10))\n",
    "plt.title('Medium to GEO Orbit Inclinations',size=12)\n",
    "plt.xlabel('Orbital Inclination (deg)', size = 12)\n",
    "plt.ylabel('Count', size = 12)\n",
    "sns.histplot(data=df_al,x='INCLINATION')"
   ]
  },
  {
   "cell_type": "markdown",
   "id": "556f4c85-a851-4d60-94d7-d7181ba79eef",
   "metadata": {},
   "source": [
    "Satellites outside of low earth orbit are in far larger number close to equatorial or very low in inclination."
   ]
  },
  {
   "cell_type": "code",
   "execution_count": 56,
   "id": "0b965b4c-30c6-499b-bd1c-bfd60eea5f3f",
   "metadata": {},
   "outputs": [
    {
     "data": {
      "image/png": "[encoded data removed]",
      "text/plain": [
       "<Figure size 1152x720 with 1 Axes>"
      ]
     },
     "metadata": {
      "needs_background": "light"
     },
     "output_type": "display_data"
    }
   ],
   "source": [
    "plt.figure(figsize=(16,10))\n",
    "plt.title('Medium to GEO All Objects Inclination',size=12)\n",
    "plt.xlabel('Orbital Inclination (deg)', size = 12)\n",
    "plt.ylabel('Count', size = 12)\n",
    "sns.histplot(data=df2[df2['SEMIMAJOR_AXIS']>=8371],x='INCLINATION',hue='OBJECT_TYPE',multiple='stack',palette='colorblind');"
   ]
  },
  {
   "cell_type": "code",
   "execution_count": 57,
   "id": "69f13198-f61c-4f37-a580-f645f1fc7109",
   "metadata": {},
   "outputs": [
    {
     "data": {
      "text/plain": [
       "count     825.000000\n",
       "mean     1389.379120\n",
       "std       216.646018\n",
       "min       287.933000\n",
       "25%      1436.083000\n",
       "50%      1436.106000\n",
       "75%      1436.889000\n",
       "max      1636.867000\n",
       "Name: PERIOD, dtype: float64"
      ]
     },
     "execution_count": 57,
     "metadata": {},
     "output_type": "execute_result"
    }
   ],
   "source": [
    "df_al[df_al['INCLINATION']<10].PERIOD.describe()"
   ]
  },
  {
   "cell_type": "markdown",
   "id": "805a72cc-c7c6-4218-8a5c-431bb83abddb",
   "metadata": {},
   "source": [
    "There is a reason most of the satellites in this slice of data have a period around ~1436 minutes, because this would put these satellites in geosynchronous orbit around earth (they rotate in sync with the Earth).  Useful for communication satellites as their position may remain very constant with the ground or trace out a predictable ground path. "
   ]
  }
 ],
 "metadata": {
  "kernelspec": {
   "display_name": "Python 3",
   "language": "python",
   "name": "python3"
  },
  "language_info": {
   "codemirror_mode": {
    "name": "ipython",
    "version": 3
   },
   "file_extension": ".py",
   "mimetype": "text/x-python",
   "name": "python",
   "nbconvert_exporter": "python",
   "pygments_lexer": "ipython3",
   "version": "3.8.8"
  }
 },
 "nbformat": 4,
 "nbformat_minor": 5
}
