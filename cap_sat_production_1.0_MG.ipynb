{
 "cells": [
  {
   "cell_type": "markdown",
   "id": "abff27a7-6b9f-4046-95f8-cddf800752d5",
   "metadata": {},
   "source": [
    "## Medium Orbit to GEO"
   ]
  },
  {
   "cell_type": "code",
   "execution_count": 1,
   "id": "3b0f5918-5140-429b-8890-390f8919d0ef",
   "metadata": {},
   "outputs": [],
   "source": [
    "import numpy as np\n",
    "import pandas as pd\n",
    "import seaborn as sns\n",
    "import matplotlib.pyplot as plt\n",
    "from sgp4 import exporter, omm\n",
    "from sgp4.api import Satrec\n",
    "from astropy import units as u\n",
    "from astropy.time import Time\n",
    "from sgp4.api import days2mdhms\n",
    "from sgp4.conveniences import sat_epoch_datetime\n",
    "from sgp4.api import jday\n",
    "from datetime import datetime, date, tzinfo, timezone, timedelta\n",
    "from sgp4.api import SatrecArray"
   ]
  },
  {
   "cell_type": "code",
   "execution_count": 2,
   "id": "cfb90870-b2ec-42a7-acef-0af6ed6bd959",
   "metadata": {},
   "outputs": [],
   "source": [
    "# read in the data\n",
    "\n",
    "df=pd.read_json('./data/gp_space_track_03MAR2022.json',orient='records')"
   ]
  },
  {
   "cell_type": "code",
   "execution_count": 3,
   "id": "945ca320-eea1-424d-8fb2-93a9e8aef572",
   "metadata": {},
   "outputs": [
    {
     "data": {
      "text/plain": [
       "(2573, 40)"
      ]
     },
     "execution_count": 3,
     "metadata": {},
     "output_type": "execute_result"
    }
   ],
   "source": [
    "df[~(df['OBJECT_TYPE']=='PAYLOAD') & (df['EPOCH']>'2022-02-20T00:00:00') & (df['SEMIMAJOR_AXIS']>=8415)].shape"
   ]
  },
  {
   "cell_type": "code",
   "execution_count": 4,
   "id": "dada6d63-b510-4f17-8a16-920ffa15b835",
   "metadata": {},
   "outputs": [],
   "source": [
    "# creating the dataframe of non payload type members\n",
    "\n",
    "dfnp=df[~(df['OBJECT_TYPE']=='PAYLOAD') & (df['EPOCH']>'2022-02-20T00:00:00') & (df['SEMIMAJOR_AXIS']>=8415) & (df['SEMIMAJOR_AXIS']<=50000)].copy(deep=True)"
   ]
  },
  {
   "cell_type": "code",
   "execution_count": 5,
   "id": "3202f968-8a9a-4f0c-b12c-a9fe50dac6f1",
   "metadata": {},
   "outputs": [],
   "source": [
    "# creating payload members\n",
    "\n",
    "dfbl=df[(df['OBJECT_TYPE']=='PAYLOAD') & (df['EPOCH']>'2022-02-20T00:00:00') & (df['SEMIMAJOR_AXIS']>=8415) & (df['SEMIMAJOR_AXIS']<=50000)].copy(deep=True)"
   ]
  },
  {
   "cell_type": "code",
   "execution_count": 6,
   "id": "a9f98eef-57fd-4620-a6a6-5f65f3ae79c6",
   "metadata": {},
   "outputs": [
    {
     "data": {
      "text/plain": [
       "(1753, 40)"
      ]
     },
     "execution_count": 6,
     "metadata": {},
     "output_type": "execute_result"
    }
   ],
   "source": [
    "dfbl.shape"
   ]
  },
  {
   "cell_type": "code",
   "execution_count": 7,
   "id": "85febbc9-9435-4130-8b50-951f1b659ddb",
   "metadata": {
    "tags": []
   },
   "outputs": [
    {
     "data": {
      "text/plain": [
       "(2564, 40)"
      ]
     },
     "execution_count": 7,
     "metadata": {},
     "output_type": "execute_result"
    }
   ],
   "source": [
    "dfnp.shape"
   ]
  },
  {
   "cell_type": "code",
   "execution_count": 8,
   "id": "de859529-1f39-4633-9483-2a6c0e98e61a",
   "metadata": {},
   "outputs": [],
   "source": [
    "dfbl.reset_index(drop=True,inplace=True)\n",
    "ini_shape=dfbl.shape[0]\n",
    "dfnp.reset_index(drop=True,inplace=True)\n",
    "inis_shape=dfnp.shape[0]\n",
    "dfnp.insert(0,'NEW_INDEX',list(range(ini_shape,ini_shape+inis_shape,1)))\n",
    "dfnp.set_index('NEW_INDEX',inplace=True)\n",
    "dfme=pd.concat([dfbl,dfnp])"
   ]
  },
  {
   "cell_type": "code",
   "execution_count": 9,
   "id": "03a36284-2556-4955-82b1-af1951dfd178",
   "metadata": {},
   "outputs": [
    {
     "name": "stdout",
     "output_type": "stream",
     "text": [
      "Wall time: 0 ns\n"
     ]
    }
   ],
   "source": [
    "%%time\n",
    "# function creates the satellites from the TLE data, puts them in a list\n",
    "# to be used later when using the array functionality in SGP4 library\n",
    "\n",
    "def sat_list_func(dataframe):\n",
    "    sats=[]\n",
    "    for jj in range(dataframe.shape[0]):\n",
    "        satellite = Satrec.twoline2rv(dataframe.iloc[jj].TLE_LINE1, dataframe.iloc[jj].TLE_LINE2)\n",
    "        sats.append(satellite)\n",
    "    return sats"
   ]
  },
  {
   "cell_type": "code",
   "execution_count": 10,
   "id": "661addff-87b0-499d-8c2c-178a5360a1e3",
   "metadata": {},
   "outputs": [],
   "source": [
    "# distance function\n",
    "\n",
    "def dist_func(psc_0,psc_1):\n",
    "    dis_two=np.sqrt(sum((psc_1-psc_0)**2))\n",
    "    return dis_two"
   ]
  },
  {
   "cell_type": "code",
   "execution_count": 11,
   "id": "d1eaef81-54df-4a49-b7e4-1a72c06f0e2f",
   "metadata": {},
   "outputs": [],
   "source": [
    "# creation of the satellite array\n",
    "\n",
    "sat_list_0=sat_list_func(dfme)"
   ]
  },
  {
   "cell_type": "code",
   "execution_count": 12,
   "id": "0737436e-31d4-4342-bfa7-52e2b7d6351c",
   "metadata": {},
   "outputs": [],
   "source": [
    "# using SatrecArray to create satellite array\n",
    "\n",
    "sat_array_0 = SatrecArray(sat_list_0)"
   ]
  },
  {
   "cell_type": "code",
   "execution_count": 13,
   "id": "476a0b51-3488-4823-9565-3ba8de4a7a98",
   "metadata": {},
   "outputs": [],
   "source": [
    "# need to create the time list\n",
    "# at the moment we are using the 03MAR2022 list, lets start on the 4th instead\n",
    "\n",
    "dt0 = datetime(2022,3,4,12,0,0)"
   ]
  },
  {
   "cell_type": "code",
   "execution_count": 14,
   "id": "e78829dd-fb53-4dea-a57a-c8e446f978b2",
   "metadata": {},
   "outputs": [],
   "source": [
    "nsd=60*60*24"
   ]
  },
  {
   "cell_type": "code",
   "execution_count": 15,
   "id": "bcc232f5-ef6f-48ba-bf5f-ad96185d15c0",
   "metadata": {},
   "outputs": [],
   "source": [
    "# we will iterate in seconds but since SGP4 takes Julian dates\n",
    "# need to convert to that format, this setup using datetime\n",
    "# with the timedelta function will just let the user ask for\n",
    "# x seconds in the future\n",
    "\n",
    "# Also this code is currently setup under the assumption that\n",
    "# time's are done in UTC, best to keep them in UTC and convert\n",
    "# later is need be for other applications"
   ]
  },
  {
   "cell_type": "code",
   "execution_count": 16,
   "id": "dba26b70-af43-4cc8-8c07-036c2f6c4c55",
   "metadata": {},
   "outputs": [],
   "source": [
    "# for 10 minutes of run time"
   ]
  },
  {
   "cell_type": "code",
   "execution_count": 17,
   "id": "f9761f3d-9757-4a82-8dc4-d238a7ad3459",
   "metadata": {},
   "outputs": [
    {
     "name": "stdout",
     "output_type": "stream",
     "text": [
      "Wall time: 372 ms\n"
     ]
    }
   ],
   "source": [
    "%%time\n",
    "time_steps_s=3*nsd\n",
    "jda=[]\n",
    "fra=[]\n",
    "dt_time=[]\n",
    "for _ in range(int(time_steps_s)):\n",
    "    jd,fr=jday(dt0.year,dt0.month,dt0.day,dt0.hour,dt0.minute,dt0.second)\n",
    "    jda.append(jd)\n",
    "    fra.append(fr)\n",
    "    dt_time.append(dt0)\n",
    "    dt0=dt0+timedelta(seconds=1)"
   ]
  },
  {
   "cell_type": "code",
   "execution_count": 18,
   "id": "ba8ef196-ffbd-4eeb-983b-a4bb2af9fa72",
   "metadata": {},
   "outputs": [
    {
     "name": "stdout",
     "output_type": "stream",
     "text": [
      "Wall time: 2 ms\n"
     ]
    }
   ],
   "source": [
    "%%time\n",
    "# The satellites in this version will accept one time step per functional\n",
    "# run\n",
    "\n",
    "e, r, v = sat_array_0.sgp4(np.array([jda[0]]),np.array([fra[0]]))"
   ]
  },
  {
   "cell_type": "code",
   "execution_count": 40,
   "id": "351f911f-a68b-4e3e-95f8-7dc1528038ab",
   "metadata": {},
   "outputs": [
    {
     "data": {
      "text/plain": [
       "True"
      ]
     },
     "execution_count": 40,
     "metadata": {},
     "output_type": "execute_result"
    }
   ],
   "source": [
    "e.max()==0"
   ]
  },
  {
   "cell_type": "code",
   "execution_count": 19,
   "id": "cbb6ec53-c948-4aa5-90d0-105b67d34f80",
   "metadata": {},
   "outputs": [],
   "source": [
    "# store the values in x\n",
    "# still looking at sector searching as an option\n",
    "\n",
    "x_vals=r[:,0,0]"
   ]
  },
  {
   "cell_type": "code",
   "execution_count": 20,
   "id": "86d15ac7-9c4b-4c02-ab98-a77d3e3a21c6",
   "metadata": {},
   "outputs": [],
   "source": [
    "# creation of the conjunction satellite dataframe\n",
    "\n",
    "df_c=pd.DataFrame(columns=['SAT_0','SAT_1','DIST_KM','JDD','JDF','CONJ_TIME'])"
   ]
  },
  {
   "cell_type": "code",
   "execution_count": 21,
   "id": "9161a728-ed6b-4b5e-b727-4eef90529dcc",
   "metadata": {},
   "outputs": [],
   "source": [
    "# first second of the simulation, this will be collapsed into the main loop in later versions\n",
    "# need to add back in the error checking line"
   ]
  },
  {
   "cell_type": "code",
   "execution_count": 23,
   "id": "cc4b7ddd-a7f2-424c-a832-607416c3726f",
   "metadata": {},
   "outputs": [
    {
     "name": "stdout",
     "output_type": "stream",
     "text": [
      "Wall time: 28 ms\n"
     ]
    }
   ],
   "source": [
    "%%time\n",
    "t_val=[jda[0],fra[0],dt_time[0]]\n",
    "# convert the r position to be a 2 dimensional instead of 3 dimensional\n",
    "rf=r[:,0]\n",
    "index=np.array(list(range(len(x_vals))))\n",
    "# creating 4th column to append the index of the sat\n",
    "rf=np.insert(rf,3,list(range(len(rf))),axis=1)\n",
    "for j in range(0,dfbl.shape[0]):\n",
    "    # check if satellites are next to one another\n",
    "    delta=np.where((abs(x_vals[j+1:]-x_vals[j])<=10),True,False)\n",
    "    index_slice=index[j+1:]\n",
    "    #print(place_holder)\n",
    "    #value index that is true ; b/c np.array->use masking + .index\n",
    "    sat_conjunction_list=index_slice[delta].tolist()\n",
    "    if sat_conjunction_list != []:\n",
    "        for sat_c in sat_conjunction_list:\n",
    "            dist=np.sqrt(sum((rf[sat_c][0:3]-rf[j][0:3])**2))\n",
    "            if dist <=5:\n",
    "                df_c.loc[len(df_c.index)] = [rf[j][3],rf[sat_c][3],dist,t_val[0],t_val[1],t_val[2]]"
   ]
  },
  {
   "cell_type": "code",
   "execution_count": 24,
   "id": "1fab1e90-55e7-4867-ba7d-a8996a478eb2",
   "metadata": {},
   "outputs": [
    {
     "data": {
      "text/html": [
       "<div>\n",
       "<style scoped>\n",
       "    .dataframe tbody tr th:only-of-type {\n",
       "        vertical-align: middle;\n",
       "    }\n",
       "\n",
       "    .dataframe tbody tr th {\n",
       "        vertical-align: top;\n",
       "    }\n",
       "\n",
       "    .dataframe thead th {\n",
       "        text-align: right;\n",
       "    }\n",
       "</style>\n",
       "<table border=\"1\" class=\"dataframe\">\n",
       "  <thead>\n",
       "    <tr style=\"text-align: right;\">\n",
       "      <th></th>\n",
       "      <th>SAT_0</th>\n",
       "      <th>SAT_1</th>\n",
       "      <th>DIST_KM</th>\n",
       "      <th>JDD</th>\n",
       "      <th>JDF</th>\n",
       "      <th>CONJ_TIME</th>\n",
       "    </tr>\n",
       "  </thead>\n",
       "  <tbody>\n",
       "    <tr>\n",
       "      <th>0</th>\n",
       "      <td>965.0</td>\n",
       "      <td>1681.0</td>\n",
       "      <td>0.18723</td>\n",
       "      <td>2459642.5</td>\n",
       "      <td>0.5</td>\n",
       "      <td>2022-03-04 12:00:00</td>\n",
       "    </tr>\n",
       "  </tbody>\n",
       "</table>\n",
       "</div>"
      ],
      "text/plain": [
       "   SAT_0   SAT_1  DIST_KM        JDD  JDF           CONJ_TIME\n",
       "0  965.0  1681.0  0.18723  2459642.5  0.5 2022-03-04 12:00:00"
      ]
     },
     "execution_count": 24,
     "metadata": {},
     "output_type": "execute_result"
    }
   ],
   "source": [
    "df_c"
   ]
  },
  {
   "cell_type": "code",
   "execution_count": 25,
   "id": "43f83329-0b87-4072-b306-237860e5698b",
   "metadata": {},
   "outputs": [],
   "source": [
    "# main loop\n",
    "# need to add back in the error checking line"
   ]
  },
  {
   "cell_type": "code",
   "execution_count": 26,
   "id": "30e31527-427d-4901-8782-fabb26da847a",
   "metadata": {},
   "outputs": [
    {
     "name": "stdout",
     "output_type": "stream",
     "text": [
      "Wall time: 2h 53s\n"
     ]
    }
   ],
   "source": [
    "%%time\n",
    "count = 1\n",
    "for ITER in range(1,len(jda)):\n",
    "    count+=1\n",
    "    e, r, v = sat_array_0.sgp4(np.array([jda[ITER]]),np.array([fra[ITER]]))\n",
    "\n",
    "    x_vals=r[:,0,0]\n",
    "\n",
    "    t_val=[jda[ITER],fra[ITER],dt_time[ITER]]\n",
    "    # convert the r position to be a 2 dimensional instead of 3 dimensional\n",
    "    rf=r[:,0]\n",
    "    # creating 4th column to append the index of the sat\n",
    "    rf=np.insert(rf,3,list(range(len(rf))),axis=1)\n",
    "    for j in range(0,dfbl.shape[0]):\n",
    "        # check if satellites are next to one another\n",
    "        delta=np.where((abs(x_vals[j+1:]-x_vals[j])<=10),True,False)\n",
    "        index_slice=index[j+1:]\n",
    "        # value index that is true ; b/c np.array->use masking + .index\n",
    "        sat_conjunction_list=index_slice[delta].tolist()\n",
    "        if sat_conjunction_list != []:\n",
    "            for sat_c in sat_conjunction_list:\n",
    "                dist=np.sqrt(sum((rf[sat_c][0:3]-rf[j][0:3])**2))\n",
    "                if dist <=5:\n",
    "                    df_c.loc[len(df_c.index)] = [rf[j][3],rf[sat_c][3],dist,t_val[0],t_val[1],t_val[2]]\n",
    "    if np.mod(count,100)==0: \n",
    "        df_c.sort_values('DIST_KM',inplace=True)\n",
    "        df_c.drop_duplicates(subset=['SAT_0','SAT_1'], keep='first', inplace=True, ignore_index=True)"
   ]
  },
  {
   "cell_type": "code",
   "execution_count": 27,
   "id": "b4ad2150-dc81-43b1-a750-0604700f3abc",
   "metadata": {},
   "outputs": [
    {
     "data": {
      "text/html": [
       "<div>\n",
       "<style scoped>\n",
       "    .dataframe tbody tr th:only-of-type {\n",
       "        vertical-align: middle;\n",
       "    }\n",
       "\n",
       "    .dataframe tbody tr th {\n",
       "        vertical-align: top;\n",
       "    }\n",
       "\n",
       "    .dataframe thead th {\n",
       "        text-align: right;\n",
       "    }\n",
       "</style>\n",
       "<table border=\"1\" class=\"dataframe\">\n",
       "  <thead>\n",
       "    <tr style=\"text-align: right;\">\n",
       "      <th></th>\n",
       "      <th>SAT_0</th>\n",
       "      <th>SAT_1</th>\n",
       "      <th>DIST_KM</th>\n",
       "      <th>JDD</th>\n",
       "      <th>JDF</th>\n",
       "      <th>CONJ_TIME</th>\n",
       "    </tr>\n",
       "  </thead>\n",
       "  <tbody>\n",
       "    <tr>\n",
       "      <th>0</th>\n",
       "      <td>965.0</td>\n",
       "      <td>1681.0</td>\n",
       "      <td>0.042911</td>\n",
       "      <td>2459642.5</td>\n",
       "      <td>0.939259</td>\n",
       "      <td>2022-03-04 22:32:32</td>\n",
       "    </tr>\n",
       "    <tr>\n",
       "      <th>1</th>\n",
       "      <td>412.0</td>\n",
       "      <td>2110.0</td>\n",
       "      <td>0.743144</td>\n",
       "      <td>2459644.5</td>\n",
       "      <td>0.372338</td>\n",
       "      <td>2022-03-06 08:56:10</td>\n",
       "    </tr>\n",
       "    <tr>\n",
       "      <th>2</th>\n",
       "      <td>1561.0</td>\n",
       "      <td>3632.0</td>\n",
       "      <td>1.019166</td>\n",
       "      <td>2459644.5</td>\n",
       "      <td>0.329722</td>\n",
       "      <td>2022-03-06 07:54:48</td>\n",
       "    </tr>\n",
       "    <tr>\n",
       "      <th>3</th>\n",
       "      <td>1600.0</td>\n",
       "      <td>1656.0</td>\n",
       "      <td>2.906344</td>\n",
       "      <td>2459642.5</td>\n",
       "      <td>0.531493</td>\n",
       "      <td>2022-03-04 12:45:21</td>\n",
       "    </tr>\n",
       "    <tr>\n",
       "      <th>4</th>\n",
       "      <td>1433.0</td>\n",
       "      <td>1515.0</td>\n",
       "      <td>3.474887</td>\n",
       "      <td>2459645.5</td>\n",
       "      <td>0.233507</td>\n",
       "      <td>2022-03-07 05:36:15</td>\n",
       "    </tr>\n",
       "  </tbody>\n",
       "</table>\n",
       "</div>"
      ],
      "text/plain": [
       "    SAT_0   SAT_1   DIST_KM        JDD       JDF           CONJ_TIME\n",
       "0   965.0  1681.0  0.042911  2459642.5  0.939259 2022-03-04 22:32:32\n",
       "1   412.0  2110.0  0.743144  2459644.5  0.372338 2022-03-06 08:56:10\n",
       "2  1561.0  3632.0  1.019166  2459644.5  0.329722 2022-03-06 07:54:48\n",
       "3  1600.0  1656.0  2.906344  2459642.5  0.531493 2022-03-04 12:45:21\n",
       "4  1433.0  1515.0  3.474887  2459645.5  0.233507 2022-03-07 05:36:15"
      ]
     },
     "execution_count": 27,
     "metadata": {},
     "output_type": "execute_result"
    }
   ],
   "source": [
    "df_c.sort_values('DIST_KM',inplace=True)\n",
    "df_c.drop_duplicates(subset=['SAT_0','SAT_1'], keep='first', inplace=True, ignore_index=True)\n",
    "df_c.head(5)"
   ]
  },
  {
   "cell_type": "code",
   "execution_count": 28,
   "id": "6fb3bc92-56c1-4c58-ab01-72c857edb4ac",
   "metadata": {},
   "outputs": [],
   "source": [
    "df_c['SAT_0_NAME']=df_c['SAT_0'].apply(lambda x: dfme.iloc[int(x)].OBJECT_NAME)"
   ]
  },
  {
   "cell_type": "code",
   "execution_count": 29,
   "id": "0cee4cf5-e126-4dbf-ace0-68596bfa3030",
   "metadata": {},
   "outputs": [],
   "source": [
    "df_c['SAT_1_NAME']=df_c['SAT_1'].apply(lambda x: dfme.iloc[int(x)].OBJECT_NAME)"
   ]
  },
  {
   "cell_type": "code",
   "execution_count": 30,
   "id": "d283379f-06a7-4cae-828d-fc7eec2fa4bf",
   "metadata": {},
   "outputs": [
    {
     "data": {
      "text/html": [
       "<div>\n",
       "<style scoped>\n",
       "    .dataframe tbody tr th:only-of-type {\n",
       "        vertical-align: middle;\n",
       "    }\n",
       "\n",
       "    .dataframe tbody tr th {\n",
       "        vertical-align: top;\n",
       "    }\n",
       "\n",
       "    .dataframe thead th {\n",
       "        text-align: right;\n",
       "    }\n",
       "</style>\n",
       "<table border=\"1\" class=\"dataframe\">\n",
       "  <thead>\n",
       "    <tr style=\"text-align: right;\">\n",
       "      <th></th>\n",
       "      <th>SAT_0</th>\n",
       "      <th>SAT_1</th>\n",
       "      <th>DIST_KM</th>\n",
       "      <th>JDD</th>\n",
       "      <th>JDF</th>\n",
       "      <th>CONJ_TIME</th>\n",
       "      <th>SAT_0_NAME</th>\n",
       "      <th>SAT_1_NAME</th>\n",
       "    </tr>\n",
       "  </thead>\n",
       "  <tbody>\n",
       "    <tr>\n",
       "      <th>0</th>\n",
       "      <td>965.0</td>\n",
       "      <td>1681.0</td>\n",
       "      <td>0.042911</td>\n",
       "      <td>2459642.5</td>\n",
       "      <td>0.939259</td>\n",
       "      <td>2022-03-04 22:32:32</td>\n",
       "      <td>INTELSAT 901</td>\n",
       "      <td>MEV-1</td>\n",
       "    </tr>\n",
       "    <tr>\n",
       "      <th>1</th>\n",
       "      <td>412.0</td>\n",
       "      <td>2110.0</td>\n",
       "      <td>0.743144</td>\n",
       "      <td>2459644.5</td>\n",
       "      <td>0.372338</td>\n",
       "      <td>2022-03-06 08:56:10</td>\n",
       "      <td>COSMOS 1779 (GLONASS)</td>\n",
       "      <td>SL-6 R/B(2)</td>\n",
       "    </tr>\n",
       "    <tr>\n",
       "      <th>2</th>\n",
       "      <td>1561.0</td>\n",
       "      <td>3632.0</td>\n",
       "      <td>1.019166</td>\n",
       "      <td>2459644.5</td>\n",
       "      <td>0.329722</td>\n",
       "      <td>2022-03-06 07:54:48</td>\n",
       "      <td>GSAT 19</td>\n",
       "      <td>COSMOS 1700 DEB</td>\n",
       "    </tr>\n",
       "    <tr>\n",
       "      <th>3</th>\n",
       "      <td>1600.0</td>\n",
       "      <td>1656.0</td>\n",
       "      <td>2.906344</td>\n",
       "      <td>2459642.5</td>\n",
       "      <td>0.531493</td>\n",
       "      <td>2022-03-04 12:45:21</td>\n",
       "      <td>O3B FM13</td>\n",
       "      <td>O3B FM19</td>\n",
       "    </tr>\n",
       "    <tr>\n",
       "      <th>4</th>\n",
       "      <td>1433.0</td>\n",
       "      <td>1515.0</td>\n",
       "      <td>3.474887</td>\n",
       "      <td>2459645.5</td>\n",
       "      <td>0.233507</td>\n",
       "      <td>2022-03-07 05:36:15</td>\n",
       "      <td>INTELSAT 30</td>\n",
       "      <td>INTELSAT 31</td>\n",
       "    </tr>\n",
       "  </tbody>\n",
       "</table>\n",
       "</div>"
      ],
      "text/plain": [
       "    SAT_0   SAT_1   DIST_KM        JDD       JDF           CONJ_TIME  \\\n",
       "0   965.0  1681.0  0.042911  2459642.5  0.939259 2022-03-04 22:32:32   \n",
       "1   412.0  2110.0  0.743144  2459644.5  0.372338 2022-03-06 08:56:10   \n",
       "2  1561.0  3632.0  1.019166  2459644.5  0.329722 2022-03-06 07:54:48   \n",
       "3  1600.0  1656.0  2.906344  2459642.5  0.531493 2022-03-04 12:45:21   \n",
       "4  1433.0  1515.0  3.474887  2459645.5  0.233507 2022-03-07 05:36:15   \n",
       "\n",
       "              SAT_0_NAME       SAT_1_NAME  \n",
       "0           INTELSAT 901            MEV-1  \n",
       "1  COSMOS 1779 (GLONASS)      SL-6 R/B(2)  \n",
       "2                GSAT 19  COSMOS 1700 DEB  \n",
       "3               O3B FM13         O3B FM19  \n",
       "4            INTELSAT 30      INTELSAT 31  "
      ]
     },
     "execution_count": 30,
     "metadata": {},
     "output_type": "execute_result"
    }
   ],
   "source": [
    "df_c.head(5)"
   ]
  },
  {
   "cell_type": "code",
   "execution_count": 31,
   "id": "2668af31-7299-40a7-837c-23d8816a6038",
   "metadata": {},
   "outputs": [
    {
     "data": {
      "text/plain": [
       "Index(['SAT_0', 'SAT_1', 'DIST_KM', 'JDD', 'JDF', 'CONJ_TIME', 'SAT_0_NAME',\n",
       "       'SAT_1_NAME'],\n",
       "      dtype='object')"
      ]
     },
     "execution_count": 31,
     "metadata": {},
     "output_type": "execute_result"
    }
   ],
   "source": [
    "df_c.columns"
   ]
  },
  {
   "cell_type": "code",
   "execution_count": null,
   "id": "5bc66a90-592b-4c68-9c5d-d3b97b7bfdbd",
   "metadata": {},
   "outputs": [],
   "source": [
    "e.max()==0"
   ]
  },
  {
   "cell_type": "code",
   "execution_count": 32,
   "id": "3abb984d-4f4a-4c95-9dcd-cc41f3eef9cb",
   "metadata": {},
   "outputs": [],
   "source": [
    "# final test data frame!"
   ]
  },
  {
   "cell_type": "code",
   "execution_count": 33,
   "id": "f77e95d9-0450-4a78-b2ae-0119b1effde0",
   "metadata": {},
   "outputs": [
    {
     "data": {
      "text/html": [
       "<div>\n",
       "<style scoped>\n",
       "    .dataframe tbody tr th:only-of-type {\n",
       "        vertical-align: middle;\n",
       "    }\n",
       "\n",
       "    .dataframe tbody tr th {\n",
       "        vertical-align: top;\n",
       "    }\n",
       "\n",
       "    .dataframe thead th {\n",
       "        text-align: right;\n",
       "    }\n",
       "</style>\n",
       "<table border=\"1\" class=\"dataframe\">\n",
       "  <thead>\n",
       "    <tr style=\"text-align: right;\">\n",
       "      <th></th>\n",
       "      <th>SAT_0_NAME</th>\n",
       "      <th>SAT_1_NAME</th>\n",
       "      <th>DIST_KM</th>\n",
       "      <th>CONJ_TIME</th>\n",
       "      <th>SAT_0</th>\n",
       "      <th>SAT_1</th>\n",
       "      <th>JDD</th>\n",
       "      <th>JDF</th>\n",
       "    </tr>\n",
       "  </thead>\n",
       "  <tbody>\n",
       "    <tr>\n",
       "      <th>0</th>\n",
       "      <td>INTELSAT 901</td>\n",
       "      <td>MEV-1</td>\n",
       "      <td>0.042911</td>\n",
       "      <td>2022-03-04 22:32:32</td>\n",
       "      <td>965.0</td>\n",
       "      <td>1681.0</td>\n",
       "      <td>2459642.5</td>\n",
       "      <td>0.939259</td>\n",
       "    </tr>\n",
       "    <tr>\n",
       "      <th>1</th>\n",
       "      <td>COSMOS 1779 (GLONASS)</td>\n",
       "      <td>SL-6 R/B(2)</td>\n",
       "      <td>0.743144</td>\n",
       "      <td>2022-03-06 08:56:10</td>\n",
       "      <td>412.0</td>\n",
       "      <td>2110.0</td>\n",
       "      <td>2459644.5</td>\n",
       "      <td>0.372338</td>\n",
       "    </tr>\n",
       "    <tr>\n",
       "      <th>2</th>\n",
       "      <td>GSAT 19</td>\n",
       "      <td>COSMOS 1700 DEB</td>\n",
       "      <td>1.019166</td>\n",
       "      <td>2022-03-06 07:54:48</td>\n",
       "      <td>1561.0</td>\n",
       "      <td>3632.0</td>\n",
       "      <td>2459644.5</td>\n",
       "      <td>0.329722</td>\n",
       "    </tr>\n",
       "    <tr>\n",
       "      <th>3</th>\n",
       "      <td>O3B FM13</td>\n",
       "      <td>O3B FM19</td>\n",
       "      <td>2.906344</td>\n",
       "      <td>2022-03-04 12:45:21</td>\n",
       "      <td>1600.0</td>\n",
       "      <td>1656.0</td>\n",
       "      <td>2459642.5</td>\n",
       "      <td>0.531493</td>\n",
       "    </tr>\n",
       "    <tr>\n",
       "      <th>4</th>\n",
       "      <td>INTELSAT 30</td>\n",
       "      <td>INTELSAT 31</td>\n",
       "      <td>3.474887</td>\n",
       "      <td>2022-03-07 05:36:15</td>\n",
       "      <td>1433.0</td>\n",
       "      <td>1515.0</td>\n",
       "      <td>2459645.5</td>\n",
       "      <td>0.233507</td>\n",
       "    </tr>\n",
       "    <tr>\n",
       "      <th>5</th>\n",
       "      <td>OPS 1570</td>\n",
       "      <td>INMARSAT 3-F4</td>\n",
       "      <td>4.279183</td>\n",
       "      <td>2022-03-04 12:03:31</td>\n",
       "      <td>93.0</td>\n",
       "      <td>800.0</td>\n",
       "      <td>2459642.5</td>\n",
       "      <td>0.502442</td>\n",
       "    </tr>\n",
       "    <tr>\n",
       "      <th>6</th>\n",
       "      <td>COMS 1</td>\n",
       "      <td>GEO-KOMPSAT-2A</td>\n",
       "      <td>4.502777</td>\n",
       "      <td>2022-03-06 10:50:13</td>\n",
       "      <td>1253.0</td>\n",
       "      <td>1641.0</td>\n",
       "      <td>2459644.5</td>\n",
       "      <td>0.451539</td>\n",
       "    </tr>\n",
       "    <tr>\n",
       "      <th>7</th>\n",
       "      <td>LDPE-1</td>\n",
       "      <td>ASCENT</td>\n",
       "      <td>4.600260</td>\n",
       "      <td>2022-03-04 15:17:18</td>\n",
       "      <td>1745.0</td>\n",
       "      <td>1752.0</td>\n",
       "      <td>2459642.5</td>\n",
       "      <td>0.637014</td>\n",
       "    </tr>\n",
       "    <tr>\n",
       "      <th>8</th>\n",
       "      <td>COSMOS 2442 (GLONASS)</td>\n",
       "      <td>COSMOS 2478 (GLONASS)</td>\n",
       "      <td>4.823506</td>\n",
       "      <td>2022-03-04 16:00:07</td>\n",
       "      <td>1191.0</td>\n",
       "      <td>1316.0</td>\n",
       "      <td>2459642.5</td>\n",
       "      <td>0.666748</td>\n",
       "    </tr>\n",
       "  </tbody>\n",
       "</table>\n",
       "</div>"
      ],
      "text/plain": [
       "              SAT_0_NAME             SAT_1_NAME   DIST_KM           CONJ_TIME  \\\n",
       "0           INTELSAT 901                  MEV-1  0.042911 2022-03-04 22:32:32   \n",
       "1  COSMOS 1779 (GLONASS)            SL-6 R/B(2)  0.743144 2022-03-06 08:56:10   \n",
       "2                GSAT 19        COSMOS 1700 DEB  1.019166 2022-03-06 07:54:48   \n",
       "3               O3B FM13               O3B FM19  2.906344 2022-03-04 12:45:21   \n",
       "4            INTELSAT 30            INTELSAT 31  3.474887 2022-03-07 05:36:15   \n",
       "5               OPS 1570          INMARSAT 3-F4  4.279183 2022-03-04 12:03:31   \n",
       "6                 COMS 1         GEO-KOMPSAT-2A  4.502777 2022-03-06 10:50:13   \n",
       "7                 LDPE-1                 ASCENT  4.600260 2022-03-04 15:17:18   \n",
       "8  COSMOS 2442 (GLONASS)  COSMOS 2478 (GLONASS)  4.823506 2022-03-04 16:00:07   \n",
       "\n",
       "    SAT_0   SAT_1        JDD       JDF  \n",
       "0   965.0  1681.0  2459642.5  0.939259  \n",
       "1   412.0  2110.0  2459644.5  0.372338  \n",
       "2  1561.0  3632.0  2459644.5  0.329722  \n",
       "3  1600.0  1656.0  2459642.5  0.531493  \n",
       "4  1433.0  1515.0  2459645.5  0.233507  \n",
       "5    93.0   800.0  2459642.5  0.502442  \n",
       "6  1253.0  1641.0  2459644.5  0.451539  \n",
       "7  1745.0  1752.0  2459642.5  0.637014  \n",
       "8  1191.0  1316.0  2459642.5  0.666748  "
      ]
     },
     "execution_count": 33,
     "metadata": {},
     "output_type": "execute_result"
    }
   ],
   "source": [
    "df_c[['SAT_0_NAME','SAT_1_NAME','DIST_KM','CONJ_TIME','SAT_0','SAT_1','JDD','JDF']].head(15)"
   ]
  },
  {
   "cell_type": "code",
   "execution_count": 34,
   "id": "f6e36bab-af6d-443b-86e3-c672cc20a7f9",
   "metadata": {},
   "outputs": [
    {
     "data": {
      "text/html": [
       "<div>\n",
       "<style scoped>\n",
       "    .dataframe tbody tr th:only-of-type {\n",
       "        vertical-align: middle;\n",
       "    }\n",
       "\n",
       "    .dataframe tbody tr th {\n",
       "        vertical-align: top;\n",
       "    }\n",
       "\n",
       "    .dataframe thead th {\n",
       "        text-align: right;\n",
       "    }\n",
       "</style>\n",
       "<table border=\"1\" class=\"dataframe\">\n",
       "  <thead>\n",
       "    <tr style=\"text-align: right;\">\n",
       "      <th></th>\n",
       "      <th>SAT_0</th>\n",
       "      <th>SAT_1</th>\n",
       "      <th>DIST_KM</th>\n",
       "      <th>JDD</th>\n",
       "      <th>JDF</th>\n",
       "      <th>CONJ_TIME</th>\n",
       "      <th>SAT_0_NAME</th>\n",
       "      <th>SAT_1_NAME</th>\n",
       "    </tr>\n",
       "  </thead>\n",
       "  <tbody>\n",
       "    <tr>\n",
       "      <th>4</th>\n",
       "      <td>1433.0</td>\n",
       "      <td>1515.0</td>\n",
       "      <td>3.474887</td>\n",
       "      <td>2459645.5</td>\n",
       "      <td>0.233507</td>\n",
       "      <td>2022-03-07 05:36:15</td>\n",
       "      <td>INTELSAT 30</td>\n",
       "      <td>INTELSAT 31</td>\n",
       "    </tr>\n",
       "    <tr>\n",
       "      <th>5</th>\n",
       "      <td>93.0</td>\n",
       "      <td>800.0</td>\n",
       "      <td>4.279183</td>\n",
       "      <td>2459642.5</td>\n",
       "      <td>0.502442</td>\n",
       "      <td>2022-03-04 12:03:31</td>\n",
       "      <td>OPS 1570</td>\n",
       "      <td>INMARSAT 3-F4</td>\n",
       "    </tr>\n",
       "    <tr>\n",
       "      <th>6</th>\n",
       "      <td>1253.0</td>\n",
       "      <td>1641.0</td>\n",
       "      <td>4.502777</td>\n",
       "      <td>2459644.5</td>\n",
       "      <td>0.451539</td>\n",
       "      <td>2022-03-06 10:50:13</td>\n",
       "      <td>COMS 1</td>\n",
       "      <td>GEO-KOMPSAT-2A</td>\n",
       "    </tr>\n",
       "    <tr>\n",
       "      <th>7</th>\n",
       "      <td>1745.0</td>\n",
       "      <td>1752.0</td>\n",
       "      <td>4.600260</td>\n",
       "      <td>2459642.5</td>\n",
       "      <td>0.637014</td>\n",
       "      <td>2022-03-04 15:17:18</td>\n",
       "      <td>LDPE-1</td>\n",
       "      <td>ASCENT</td>\n",
       "    </tr>\n",
       "    <tr>\n",
       "      <th>8</th>\n",
       "      <td>1191.0</td>\n",
       "      <td>1316.0</td>\n",
       "      <td>4.823506</td>\n",
       "      <td>2459642.5</td>\n",
       "      <td>0.666748</td>\n",
       "      <td>2022-03-04 16:00:07</td>\n",
       "      <td>COSMOS 2442 (GLONASS)</td>\n",
       "      <td>COSMOS 2478 (GLONASS)</td>\n",
       "    </tr>\n",
       "  </tbody>\n",
       "</table>\n",
       "</div>"
      ],
      "text/plain": [
       "    SAT_0   SAT_1   DIST_KM        JDD       JDF           CONJ_TIME  \\\n",
       "4  1433.0  1515.0  3.474887  2459645.5  0.233507 2022-03-07 05:36:15   \n",
       "5    93.0   800.0  4.279183  2459642.5  0.502442 2022-03-04 12:03:31   \n",
       "6  1253.0  1641.0  4.502777  2459644.5  0.451539 2022-03-06 10:50:13   \n",
       "7  1745.0  1752.0  4.600260  2459642.5  0.637014 2022-03-04 15:17:18   \n",
       "8  1191.0  1316.0  4.823506  2459642.5  0.666748 2022-03-04 16:00:07   \n",
       "\n",
       "              SAT_0_NAME             SAT_1_NAME  \n",
       "4            INTELSAT 30            INTELSAT 31  \n",
       "5               OPS 1570          INMARSAT 3-F4  \n",
       "6                 COMS 1         GEO-KOMPSAT-2A  \n",
       "7                 LDPE-1                 ASCENT  \n",
       "8  COSMOS 2442 (GLONASS)  COSMOS 2478 (GLONASS)  "
      ]
     },
     "execution_count": 34,
     "metadata": {},
     "output_type": "execute_result"
    }
   ],
   "source": [
    "df_c.tail(5)"
   ]
  },
  {
   "cell_type": "code",
   "execution_count": 35,
   "id": "5306e9e2-8819-4b75-95e6-d9711e248b63",
   "metadata": {},
   "outputs": [],
   "source": [
    "df_c.to_csv('./data/medium_orbit_3days_MAR3GPDATA.csv',index=False)"
   ]
  },
  {
   "cell_type": "code",
   "execution_count": 36,
   "id": "f6f381f2-67ea-4566-a63a-6d03f046a234",
   "metadata": {},
   "outputs": [],
   "source": [
    "# ------------------------------------------------------------------------------------------------------"
   ]
  },
  {
   "cell_type": "code",
   "execution_count": 37,
   "id": "ad1530d4-7db6-4a19-88fb-5871670ab0a9",
   "metadata": {},
   "outputs": [
    {
     "data": {
      "text/plain": [
       "array([-7259.19777555, -6778.83233983, -2251.55626972, ...,\n",
       "        3254.02239369,  5832.60352645,  6213.43718042])"
      ]
     },
     "execution_count": 37,
     "metadata": {},
     "output_type": "execute_result"
    }
   ],
   "source": [
    "r[:,0,0]"
   ]
  }
 ],
 "metadata": {
  "kernelspec": {
   "display_name": "Python 3",
   "language": "python",
   "name": "python3"
  },
  "language_info": {
   "codemirror_mode": {
    "name": "ipython",
    "version": 3
   },
   "file_extension": ".py",
   "mimetype": "text/x-python",
   "name": "python",
   "nbconvert_exporter": "python",
   "pygments_lexer": "ipython3",
   "version": "3.8.8"
  }
 },
 "nbformat": 4,
 "nbformat_minor": 5
}
