{
 "cells": [
  {
   "cell_type": "markdown",
   "id": "0deeb232-a2d4-4e71-8a74-86a6d0c31e34",
   "metadata": {},
   "source": [
    "## Collision Modeling Run Comparisons"
   ]
  },
  {
   "cell_type": "code",
   "execution_count": 1,
   "id": "bbce9271-5dc9-40a0-96de-065861aaaa30",
   "metadata": {},
   "outputs": [],
   "source": [
    "import numpy as np\n",
    "import pandas as pd\n",
    "import seaborn as sns\n",
    "import matplotlib.pyplot as plt"
   ]
  },
  {
   "cell_type": "code",
   "execution_count": 2,
   "id": "18d47f62-3500-49d6-9801-27136d467514",
   "metadata": {
    "tags": []
   },
   "outputs": [],
   "source": [
    "# read in the data\n",
    "df=pd.read_json('./data/gp_space_track_03MAR2022.json',orient='records')"
   ]
  },
  {
   "cell_type": "code",
   "execution_count": 3,
   "id": "1f737959-8eab-431b-ae67-bc0c3fca7f0b",
   "metadata": {},
   "outputs": [],
   "source": [
    "# suppress all the entries that are not payload type\n",
    "# suppress all the entries that not recent entries\n",
    "df=df[(df['OBJECT_TYPE']=='PAYLOAD') & (df['EPOCH']>'2022-02-20T00:00:00')].copy(deep=True)\n",
    "# creating the LEO slice\n",
    "dfl=df[(df['SEMIMAJOR_AXIS']<=8415) & (df['SEMIMAJOR_AXIS']>=6600)].copy(deep=True)\n",
    "# dfs will be our starlink frame\n",
    "dfs=dfl[dfl['OBJECT_NAME'].str.contains('STARLINK')].copy(deep=True)\n",
    "dfne=dfl[(dfl['SEMIMAJOR_AXIS']<=7200) & (~dfl['OBJECT_NAME'].str.contains('STARLINK'))].copy(deep=True)\n",
    "dfne=dfne[~dfne['NORAD_CAT_ID'].isin([49044, 49269, 49379, 49407, 51660, 51712,48803, 49326, 49222])].copy(deep=True)\n",
    "dfne.reset_index(drop=True,inplace=True)\n",
    "ini_shape=dfne.shape[0]\n",
    "dfs.reset_index(drop=True,inplace=True)\n",
    "inis_shape=dfs.shape[0]\n",
    "dfs.insert(0,'NEW_INDEX',list(range(ini_shape,ini_shape+inis_shape,1)))\n",
    "dfs.set_index('NEW_INDEX',inplace=True)\n",
    "dfri=pd.concat([dfne,dfs])"
   ]
  },
  {
   "cell_type": "markdown",
   "id": "2b737f60-98fa-41a3-ad49-8e2fe15679da",
   "metadata": {},
   "source": [
    "Mimicing the dataframes from the near earth LEO slice"
   ]
  },
  {
   "cell_type": "code",
   "execution_count": 4,
   "id": "170efc3f-6b7f-4a3d-906d-f2656851be40",
   "metadata": {},
   "outputs": [
    {
     "data": {
      "text/plain": [
       "(4445, 40)"
      ]
     },
     "execution_count": 4,
     "metadata": {},
     "output_type": "execute_result"
    }
   ],
   "source": [
    "dfri.shape"
   ]
  },
  {
   "cell_type": "code",
   "execution_count": 5,
   "id": "814ae4fe-ba1d-4d02-8aff-cc39cf00ec07",
   "metadata": {},
   "outputs": [
    {
     "data": {
      "text/plain": [
       "(1918, 40)"
      ]
     },
     "execution_count": 5,
     "metadata": {},
     "output_type": "execute_result"
    }
   ],
   "source": [
    "dfs.shape"
   ]
  },
  {
   "cell_type": "code",
   "execution_count": 6,
   "id": "007554a7-8c74-435f-9d08-929f6a5235fa",
   "metadata": {},
   "outputs": [
    {
     "data": {
      "text/plain": [
       "(2527, 40)"
      ]
     },
     "execution_count": 6,
     "metadata": {},
     "output_type": "execute_result"
    }
   ],
   "source": [
    "dfne.shape"
   ]
  },
  {
   "cell_type": "markdown",
   "id": "c90be824-44d4-48de-9d6f-c4084a592e69",
   "metadata": {},
   "source": [
    "Checking shapes"
   ]
  },
  {
   "cell_type": "code",
   "execution_count": 7,
   "id": "ab999925-f549-4e81-8802-8b1189430662",
   "metadata": {},
   "outputs": [],
   "source": [
    "dfo1=pd.read_csv('./data//close_leo_24hrs_MAR3GPDATA.csv')\n",
    "dfo3=pd.read_csv('./data//close_leo_72hrs_MAR3GPDATA.csv')\n",
    "dfo6=pd.read_csv('./data/close_leo_6days_MAR3GPDATA.csv')"
   ]
  },
  {
   "cell_type": "code",
   "execution_count": 8,
   "id": "e09060fd-7291-498a-bad5-1652ab193d8e",
   "metadata": {},
   "outputs": [
    {
     "data": {
      "text/plain": [
       "0.2631578947368421"
      ]
     },
     "execution_count": 8,
     "metadata": {},
     "output_type": "execute_result"
    }
   ],
   "source": [
    "dfo1['SAT_0_NAME'].unique().shape[0]/dfne.shape[0]"
   ]
  },
  {
   "cell_type": "code",
   "execution_count": 9,
   "id": "edf769d0-5f04-4277-b7cd-52fa463c9fd4",
   "metadata": {},
   "outputs": [
    {
     "data": {
      "text/plain": [
       "(1049, 8)"
      ]
     },
     "execution_count": 9,
     "metadata": {},
     "output_type": "execute_result"
    }
   ],
   "source": [
    "dfo1.shape"
   ]
  },
  {
   "cell_type": "code",
   "execution_count": 10,
   "id": "e4934c94-a8b9-4afd-b4a6-caf0ee265797",
   "metadata": {},
   "outputs": [
    {
     "data": {
      "text/plain": [
       "0.5033636723387416"
      ]
     },
     "execution_count": 10,
     "metadata": {},
     "output_type": "execute_result"
    }
   ],
   "source": [
    "dfo3['SAT_0_NAME'].unique().shape[0]/dfne.shape[0]"
   ]
  },
  {
   "cell_type": "code",
   "execution_count": 11,
   "id": "83e0b465-2963-4468-b7d8-88b676f99495",
   "metadata": {
    "tags": []
   },
   "outputs": [
    {
     "data": {
      "text/plain": [
       "0.6640284922833399"
      ]
     },
     "execution_count": 11,
     "metadata": {},
     "output_type": "execute_result"
    }
   ],
   "source": [
    "dfo6['SAT_0_NAME'].unique().shape[0]/dfne.shape[0]"
   ]
  },
  {
   "cell_type": "code",
   "execution_count": 12,
   "id": "492a6b43-a3ee-4252-9de4-4df24db7ce7f",
   "metadata": {},
   "outputs": [
    {
     "data": {
      "text/plain": [
       "(6309, 10)"
      ]
     },
     "execution_count": 12,
     "metadata": {},
     "output_type": "execute_result"
    }
   ],
   "source": [
    "dfo6.shape"
   ]
  },
  {
   "cell_type": "markdown",
   "id": "59e79197-2551-4fac-be53-6bac44b38bba",
   "metadata": {},
   "source": [
    "As the simulation runs for a longer period of time, more close approaches occur.  This is not unexpected."
   ]
  },
  {
   "cell_type": "code",
   "execution_count": 13,
   "id": "6baef5d4-6702-40cd-8db4-79821f5a1e11",
   "metadata": {},
   "outputs": [],
   "source": [
    "coll_rad=dfo6['SAT_0_NORAD'].unique().tolist()"
   ]
  },
  {
   "cell_type": "code",
   "execution_count": 14,
   "id": "877b5991-80cc-491d-937e-aa0a09b6d66c",
   "metadata": {},
   "outputs": [],
   "source": [
    "dfne['CAD_6D']=dfne['NORAD_CAT_ID'].isin(coll_rad)"
   ]
  },
  {
   "cell_type": "code",
   "execution_count": 15,
   "id": "1d9a8ee3-6c21-4b68-a1ef-5bfbbb594343",
   "metadata": {
    "tags": []
   },
   "outputs": [
    {
     "data": {
      "text/plain": [
       "0.664424218440839"
      ]
     },
     "execution_count": 15,
     "metadata": {},
     "output_type": "execute_result"
    }
   ],
   "source": [
    "(dfne['CAD_6D']*1).sum()/(dfne.shape[0])"
   ]
  },
  {
   "cell_type": "code",
   "execution_count": 16,
   "id": "3156f335-626b-4905-8f4b-b231cf556740",
   "metadata": {},
   "outputs": [
    {
     "data": {
      "text/plain": [
       "0.4038674908860358"
      ]
     },
     "execution_count": 16,
     "metadata": {},
     "output_type": "execute_result"
    }
   ],
   "source": [
    "dfo6[(dfo6['SAT_1_NAME'].str.find('STARLINK'))>=0].shape[0]/dfo6.shape[0]"
   ]
  },
  {
   "cell_type": "code",
   "execution_count": 17,
   "id": "cde8b523-5b1b-47d4-9d0e-9de09195c659",
   "metadata": {},
   "outputs": [
    {
     "data": {
      "image/png": "[encoded data removed]",
      "text/plain": [
       "<Figure size 1152x720 with 1 Axes>"
      ]
     },
     "metadata": {
      "needs_background": "light"
     },
     "output_type": "display_data"
    }
   ],
   "source": [
    "plt.figure(figsize=(16,10))\n",
    "plt.title('Satellite SMA, 6 Day Simulation',size=12)\n",
    "plt.xlabel('Semi-Major Axis (km)', size = 12)\n",
    "plt.ylabel('Count', size = 12)\n",
    "sns.histplot(data=dfne,x='SEMIMAJOR_AXIS',hue='CAD_6D',multiple='stack',legend=True);\n",
    "plt.legend(title='Close Approach', loc='upper right', labels=['True', 'False']);\n",
    "plt.savefig(fname='6_day_hist.png')"
   ]
  },
  {
   "cell_type": "markdown",
   "id": "26ed7a45-f635-4725-bf05-75e18a5a700c",
   "metadata": {},
   "source": [
    "Given that more close approaches occur the longer the simulation runs, this would mean for long term studies it might be more inline to generalize the appraoch as opposed to looking at which satellites have risks of collision."
   ]
  },
  {
   "cell_type": "code",
   "execution_count": null,
   "id": "7d7fce2e-ab12-4bf6-95a5-a7a235a7d203",
   "metadata": {},
   "outputs": [],
   "source": []
  }
 ],
 "metadata": {
  "kernelspec": {
   "display_name": "Python 3",
   "language": "python",
   "name": "python3"
  },
  "language_info": {
   "codemirror_mode": {
    "name": "ipython",
    "version": 3
   },
   "file_extension": ".py",
   "mimetype": "text/x-python",
   "name": "python",
   "nbconvert_exporter": "python",
   "pygments_lexer": "ipython3",
   "version": "3.8.8"
  }
 },
 "nbformat": 4,
 "nbformat_minor": 5
}
